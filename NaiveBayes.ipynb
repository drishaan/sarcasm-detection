{
 "cells": [
  {
   "cell_type": "code",
   "execution_count": 32,
   "id": "dcf95678",
   "metadata": {},
   "outputs": [],
   "source": [
    "import re\n",
    "\n",
    "import pandas as pd\n",
    "import numpy as np\n",
    "import matplotlib.pyplot as plt\n",
    "import seaborn as sns\n",
    "\n",
    "from sklearn.svm import LinearSVC\n",
    "from sklearn.linear_model import LogisticRegression\n",
    "from sklearn.naive_bayes import MultinomialNB\n",
    "from sklearn.feature_extraction.text import CountVectorizer\n",
    "from sklearn.model_selection import train_test_split\n",
    "\n",
    "from sklearn.metrics import accuracy_score, roc_auc_score, f1_score"
   ]
  },
  {
   "cell_type": "code",
   "execution_count": 33,
   "id": "6a16715d",
   "metadata": {},
   "outputs": [],
   "source": [
    "data = pd.read_csv(\"./data/cleaned_headlines.csv\")"
   ]
  },
  {
   "cell_type": "code",
   "execution_count": 34,
   "id": "771d712f",
   "metadata": {},
   "outputs": [
    {
     "name": "stdout",
     "output_type": "stream",
     "text": [
      "Using gram = 1 and stopwords:\n",
      "f1_score: 0.8501845018450185\n",
      "accuracy_score: 0.8581411600279525\n",
      "roc_auc_score: 0.9315170036872638\n",
      "Using gram = 2 and stopwords:\n",
      "f1_score: 0.8622620380739082\n",
      "accuracy_score: 0.8710691823899371\n",
      "roc_auc_score: 0.9407243985689346\n",
      "Using gram = 1 and no stopwords:\n",
      "f1_score: 0.7978062157221207\n",
      "accuracy_score: 0.8067784765897974\n",
      "roc_auc_score: 0.8901353464540422\n",
      "Using gram = 2 and no stopwords:\n",
      "f1_score: 0.8057500921489126\n",
      "accuracy_score: 0.815863032844165\n",
      "roc_auc_score: 0.8982345072296986\n"
     ]
    }
   ],
   "source": [
    "from naive_bayes import run_models\n",
    "\n",
    "run_models(data)"
   ]
  },
  {
   "cell_type": "code",
   "execution_count": null,
   "id": "a4ba6741",
   "metadata": {},
   "outputs": [],
   "source": []
  },
  {
   "cell_type": "code",
   "execution_count": null,
   "id": "64ffff22",
   "metadata": {},
   "outputs": [],
   "source": []
  }
 ],
 "metadata": {
  "kernelspec": {
   "display_name": "Python 3 (ipykernel)",
   "language": "python",
   "name": "python3"
  },
  "language_info": {
   "codemirror_mode": {
    "name": "ipython",
    "version": 3
   },
   "file_extension": ".py",
   "mimetype": "text/x-python",
   "name": "python",
   "nbconvert_exporter": "python",
   "pygments_lexer": "ipython3",
   "version": "3.9.15"
  }
 },
 "nbformat": 4,
 "nbformat_minor": 5
}
