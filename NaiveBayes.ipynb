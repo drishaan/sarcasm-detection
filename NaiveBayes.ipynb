{
    "cells": [
        {
            "cell_type": "code",
            "execution_count": 1,
            "id": "7c7ab158",
            "metadata": {},
            "outputs": [],
            "source": [
                "# Load in all the necessary packages\n",
                "\n",
                "%load_ext autoreload\n",
                "%autoreload 2\n",
                "\n",
                "import re\n",
                "\n",
                "import pandas as pd\n",
                "import numpy as np\n",
                "import matplotlib.pyplot as plt\n",
                "import seaborn as sns\n",
                "\n",
                "from sklearn.svm import LinearSVC\n",
                "from sklearn.linear_model import LogisticRegression\n",
                "from sklearn.naive_bayes import MultinomialNB\n",
                "from sklearn.feature_extraction.text import CountVectorizer\n",
                "from sklearn.model_selection import train_test_split\n",
                "\n",
                "from sklearn.metrics import accuracy_score, roc_auc_score, f1_score"
            ]
        },
        {
            "cell_type": "code",
            "execution_count": 2,
            "id": "4b09d23c",
            "metadata": {},
            "outputs": [
                {
                    "name": "stdout",
                    "output_type": "stream",
                    "text": [
                        "****** Running Models *******\n",
                        "Using gram = 1 and stopwords:\n",
                        "f1_score: 0.7737556561085973\n",
                        "accuracy_score: 0.8099581908019764\n",
                        "roc_auc_score: 0.8911401414677278\n",
                        "________________________\n",
                        "Using gram = 2 and stopwords:\n",
                        "f1_score: 0.8181818181818182\n",
                        "accuracy_score: 0.8441657164576207\n",
                        "roc_auc_score: 0.917146625405246\n",
                        "________________________\n",
                        "Using gram = 3 and stopwords:\n",
                        "f1_score: 0.8238623993032878\n",
                        "accuracy_score: 0.8462561763587989\n",
                        "roc_auc_score: 0.9201545829649278\n",
                        "________________________\n",
                        "Using gram = 1 and no stopwords:\n",
                        "f1_score: 0.7570596145226355\n",
                        "accuracy_score: 0.7939946788293425\n",
                        "roc_auc_score: 0.8770803124078986\n",
                        "________________________\n",
                        "Using gram = 2 and no stopwords:\n",
                        "f1_score: 0.7955341506129597\n",
                        "accuracy_score: 0.822500950209046\n",
                        "roc_auc_score: 0.903949160035367\n",
                        "________________________\n",
                        "Using gram = 3 and no stopwords:\n",
                        "f1_score: 0.7965591397849463\n",
                        "accuracy_score: 0.8202204484986697\n",
                        "roc_auc_score: 0.9066747715885647\n",
                        "________________________\n",
                        "Best params based on f1 was {'stopwords': True, 'gram_size': 3} with a score of 0.8238623993032878\n"
                    ]
                }
            ],
            "source": [
                "from naive_bayes import run_models\n",
                "\n",
                "# Read in the headline data\n",
                "headline_data = pd.read_csv(\"./data/cleaned_headlines.csv\")\n",
                "\n",
                "# Run the model on headline data and a set of hyperparameters\n",
                "run_models(headline_data, gram=3)"
            ]
        },
        {
            "cell_type": "code",
            "execution_count": 3,
            "id": "2ba61388",
            "metadata": {},
            "outputs": [
                {
                    "name": "stdout",
                    "output_type": "stream",
                    "text": [
                        "****** Running Models *******\n",
                        "Using gram = 1 and stopwords:\n",
                        "f1_score: 0.8709677419354839\n",
                        "accuracy_score: 0.8793969849246231\n",
                        "roc_auc_score: 0.9509803921568627\n",
                        "________________________\n",
                        "Using gram = 2 and stopwords:\n",
                        "f1_score: 0.8723404255319148\n",
                        "accuracy_score: 0.8793969849246231\n",
                        "roc_auc_score: 0.9484536082474226\n",
                        "________________________\n",
                        "Using gram = 3 and stopwords:\n",
                        "f1_score: 0.8958333333333333\n",
                        "accuracy_score: 0.8994974874371859\n",
                        "roc_auc_score: 0.9427936122902769\n",
                        "________________________\n",
                        "Using gram = 1 and no stopwords:\n",
                        "f1_score: 0.8969072164948452\n",
                        "accuracy_score: 0.8994974874371859\n",
                        "roc_auc_score: 0.9449161107742066\n",
                        "________________________\n",
                        "Using gram = 2 and no stopwords:\n",
                        "f1_score: 0.8877551020408163\n",
                        "accuracy_score: 0.8894472361809045\n",
                        "roc_auc_score: 0.9363250454821105\n",
                        "________________________\n",
                        "Using gram = 3 and no stopwords:\n",
                        "f1_score: 0.8844221105527639\n",
                        "accuracy_score: 0.8844221105527639\n",
                        "roc_auc_score: 0.9314736203759855\n",
                        "________________________\n",
                        "Best params based on acc was {'stopwords': True, 'gram_size': 3} with a score of 0.8994974874371859\n"
                    ]
                }
            ],
            "source": [
                "from naive_bayes import run_models\n",
                "\n",
                "# Read in the tweet data\n",
                "headline_data = pd.read_csv(\"./data/cleaned_tweets.csv\")\n",
                "\n",
                "# Run the model on tweet data and a set of hyperparameters\n",
                "run_models(headline_data, gram=3, on='acc')"
            ]
        }
    ],
    "metadata": {
        "kernelspec": {
            "display_name": "Python 3 (ipykernel)",
            "language": "python",
            "name": "python3"
        },
        "language_info": {
            "codemirror_mode": {
                "name": "ipython",
                "version": 3
            },
            "file_extension": ".py",
            "mimetype": "text/x-python",
            "name": "python",
            "nbconvert_exporter": "python",
            "pygments_lexer": "ipython3",
            "version": "3.9.15"
        }
    },
    "nbformat": 4,
    "nbformat_minor": 5
}