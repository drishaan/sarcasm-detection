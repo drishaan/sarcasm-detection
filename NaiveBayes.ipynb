{
 "cells": [
  {
   "cell_type": "code",
   "execution_count": null,
   "id": "eb222056",
   "metadata": {},
   "outputs": [],
   "source": [
    "import re\n",
    "\n",
    "import pandas as pd\n",
    "import numpy as np\n",
    "import matplotlib.pyplot as plt\n",
    "import seaborn as sns\n",
    "\n",
    "from sklearn.svm import LinearSVC\n",
    "from sklearn.linear_model import LogisticRegression\n",
    "from sklearn.naive_bayes import MultinomialNB\n",
    "from sklearn.feature_extraction.text import CountVectorizer\n",
    "from sklearn.model_selection import train_test_split\n",
    "\n",
    "from sklearn.metrics import accuracy_score, roc_auc_score, f1_score"
   ]
  },
  {
   "cell_type": "code",
   "execution_count": null,
   "id": "608937d0",
   "metadata": {},
   "outputs": [],
   "source": [
    "data = pd.read_csv(\"./data/cleaned_headlines.csv\")"
   ]
  },
  {
   "cell_type": "code",
   "execution_count": 5,
   "id": "d350c8c1",
   "metadata": {},
   "outputs": [],
   "source": [
    "vectorizer = CountVectorizer()"
   ]
  },
  {
   "cell_type": "code",
   "execution_count": 4,
   "id": "15072b40",
   "metadata": {},
   "outputs": [],
   "source": [
    "# Vectorize the input column\n",
    "X = vectorizer.fit_transform(data.no_stopwords)\n",
    "\n",
    "# Split out the y column\n",
    "y = data.is_sarcastic"
   ]
  },
  {
   "cell_type": "code",
   "execution_count": null,
   "id": "c6d6636c",
   "metadata": {},
   "outputs": [],
   "source": []
  },
  {
   "cell_type": "code",
   "execution_count": null,
   "id": "af02f38c",
   "metadata": {},
   "outputs": [],
   "source": [
    "# Split the data into train, validation, and testing\n",
    "trainX, valX, trainy, valy = train_test_split(X, y, train_size=0.8, random_state=486)\n",
    "valX, testX, valy, testy = train_test_split(valX, valy, train_size=0.5, random_state=486)"
   ]
  },
  {
   "cell_type": "code",
   "execution_count": null,
   "id": "e12a84bf",
   "metadata": {},
   "outputs": [],
   "source": [
    "# Train the Naive Bayes classifier\n",
    "clf = MultinomialNB()\n",
    "clf.fit(trainX, trainy)"
   ]
  },
  {
   "cell_type": "code",
   "execution_count": null,
   "id": "c71497fc",
   "metadata": {},
   "outputs": [],
   "source": []
  },
  {
   "cell_type": "code",
   "execution_count": null,
   "id": "c4e5087c",
   "metadata": {},
   "outputs": [],
   "source": [
    "f1_score(valy, clf.predict(valX))"
   ]
  },
  {
   "cell_type": "code",
   "execution_count": null,
   "id": "f56a5b6c",
   "metadata": {},
   "outputs": [],
   "source": [
    "accuracy_score(valy, clf.predict(valX))"
   ]
  },
  {
   "cell_type": "code",
   "execution_count": null,
   "id": "52ce1169",
   "metadata": {},
   "outputs": [],
   "source": [
    "roc_auc_score(valy, clf.predict_proba(valX)[:, 1])"
   ]
  }
 ],
 "metadata": {
  "kernelspec": {
   "display_name": "Python 3 (ipykernel)",
   "language": "python",
   "name": "python3"
  },
  "language_info": {
   "codemirror_mode": {
    "name": "ipython",
    "version": 3
   },
   "file_extension": ".py",
   "mimetype": "text/x-python",
   "name": "python",
   "nbconvert_exporter": "python",
   "pygments_lexer": "ipython3",
   "version": "3.9.15"
  }
 },
 "nbformat": 4,
 "nbformat_minor": 5
}
