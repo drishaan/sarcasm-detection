{
 "cells": [
  {
   "cell_type": "code",
   "execution_count": 1,
   "id": "7c7ab158",
   "metadata": {},
   "outputs": [],
   "source": [
    "%load_ext autoreload\n",
    "%autoreload 2\n",
    "\n",
    "import re\n",
    "\n",
    "import pandas as pd\n",
    "import numpy as np\n",
    "import markovify"
   ]
  },
  {
   "cell_type": "code",
   "execution_count": 10,
   "id": "3c3344e0",
   "metadata": {},
   "outputs": [
    {
     "name": "stdout",
     "output_type": "stream",
     "text": [
      "life : inspiring : this man eats anything like human being terrific news for a while\n",
      "pregnant women asked to name atom after loved one\n",
      "woman tragically succumbs to new ideas for concession speech while obama talks about wwii because nothing interesting happened to area man visits pond to pelt ducks with rocks across snow\n",
      "peta protests use of hillary clinton opens new ordeal kingdom for family of congressman glad he finally found outlet for his hangover\n",
      "will new nfl player traded , retired , signed , cut off fingerprints , start anew\n",
      "life : heartbreaking : paul ryan just put out a kid\n",
      "fred phelps , man on verge of actually graduating\n",
      "childish gambino teases concept album exploring what world might be some trick to unfolding table legs\n",
      "chinese astronomers inform beijing residents sky will be equally random chance of being alone , his parents could only find a sexy adventure ! special for theonion\n",
      "report : if we tell you what he knows is\n"
     ]
    }
   ],
   "source": [
    "from markov_chain import generate_text\n",
    "\n",
    "# Read in the headline data\n",
    "headline_data = pd.read_csv(\"./data/cleaned_headlines.csv\")\n",
    "\n",
    "# Generate 10 sarcastic headlines\n",
    "generate_text(headline_data, \"sarcastic\", \"headline\", 10)"
   ]
  },
  {
   "cell_type": "code",
   "execution_count": 9,
   "id": "fe802d64",
   "metadata": {},
   "outputs": [
    {
     "name": "stdout",
     "output_type": "stream",
     "text": [
      "virginia mom charged with stealing taco\n",
      "nearly 40 % of brits would n't shut up\n",
      "austrian woman who was previously attacked by men increase when attractive women are changing the face with a chainsaw clears hurricane irma eyed as piece of florida history\n",
      "a publisher is turning the white house\n",
      "world peace , december 12 , fakes own kidnapping to avoid canceling his service even after his secret hitler game to every u.s. senator\n",
      "why we run : a quarter of americans are raiding their retirement savings actually fell over the way to die by january or lose life insurance\n",
      "mother arrested for dui after police spot car driving with a pool noodle\n",
      "ex-christian katy perry drama\n",
      "gladys knight sues to block saudi 9/11 bill\n",
      "how i learned from our moms\n"
     ]
    }
   ],
   "source": [
    "# Generate 10 non-sarcastic headlines\n",
    "generate_text(headline_data, \"non sarcastic\", \"headline\", 10)"
   ]
  },
  {
   "cell_type": "code",
   "execution_count": 13,
   "id": "6e6bd485",
   "metadata": {},
   "outputs": [
    {
     "name": "stdout",
     "output_type": "stream",
     "text": [
      "i love it when my classes get canceled . # not\n",
      "ac has to be learned from his story . speak out !\n",
      "12 hour day tomorrow should be sick more often lol # not ðÿ˜­\n",
      "i always love emergency doctor appointments . # fml # iwannagobacktobednow\n",
      "do n't you just love when i get hit . smh\n",
      "best way to end my night # not # pregnancyproblems # pregnancy\n",
      "i just noticed that i did n't have happened .\n",
      "being sick brings out the bitch in front of you . # imsmart # not\n",
      "nothing gets me quite as good as waking up the whole office in the end i just love it when my brackets come off my teeth ðÿ˜œ # not\n",
      "when michele obama trying to fit in ! # not\n"
     ]
    }
   ],
   "source": [
    "# Read in the twitter data\n",
    "headline_data = pd.read_csv(\"./data/cleaned_tweets.csv\")\n",
    "\n",
    "# Generate 10 sarcastic tweets\n",
    "generate_text(headline_data, \"sarcastic\", \"tweet\", 10)"
   ]
  },
  {
   "cell_type": "code",
   "execution_count": 14,
   "id": "c4af9b82",
   "metadata": {},
   "outputs": [
    {
     "name": "stdout",
     "output_type": "stream",
     "text": [
      "i really dislike and then one day never speak up\n",
      "goodbye from zen ! great to see so many levels # music # truth # love\n",
      "why not tell them to present so they lose the ability to speak so disparagingly of us\n",
      "i dont care , you could just learn so much as speak to you\n",
      "idgaf , what people are so personal so usually i recommend you go to the manager , shit go ahead lmfao\n",
      "books are so untrustworthy that they feel the want to speak my mind\n",
      "the thoughts you think they learn to speak . so when i speak to u tomorrow ¤_¤\n",
      "yes . i was n't lookin for u\n",
      "i feel so weird how you can speak malay\n",
      "do n't speak for so long\n"
     ]
    }
   ],
   "source": [
    "# Read in the twitter data\n",
    "headline_data = pd.read_csv(\"./data/cleaned_tweets.csv\")\n",
    "\n",
    "# Generate 10 non-sarcastic tweets\n",
    "generate_text(headline_data, \"non sarcastic\", \"tweet\", 10)"
   ]
  },
  {
   "cell_type": "code",
   "execution_count": null,
   "id": "10ac9dbd",
   "metadata": {},
   "outputs": [],
   "source": []
  }
 ],
 "metadata": {
  "kernelspec": {
   "display_name": "Python 3 (ipykernel)",
   "language": "python",
   "name": "python3"
  },
  "language_info": {
   "codemirror_mode": {
    "name": "ipython",
    "version": 3
   },
   "file_extension": ".py",
   "mimetype": "text/x-python",
   "name": "python",
   "nbconvert_exporter": "python",
   "pygments_lexer": "ipython3",
   "version": "3.9.15"
  }
 },
 "nbformat": 4,
 "nbformat_minor": 5
}
