{
 "cells": [
  {
   "cell_type": "code",
   "execution_count": 2,
   "id": "7c7ab158",
   "metadata": {},
   "outputs": [],
   "source": [
    "# Load in packages\n",
    "%load_ext autoreload\n",
    "%autoreload 2\n",
    "\n",
    "import re\n",
    "\n",
    "import pandas as pd\n",
    "import numpy as np\n",
    "import markovify"
   ]
  },
  {
   "cell_type": "code",
   "execution_count": 3,
   "id": "3c3344e0",
   "metadata": {},
   "outputs": [
    {
     "name": "stdout",
     "output_type": "stream",
     "text": [
      "heartwarming : this incredibly lifelike simulation of new job getting cancer\n",
      "poll : 99 % of sincere thoughts played off as jokes\n",
      "zangief blasted for failing to properly silence victims\n",
      "sorority raises money at new life\n",
      "hypochondriac maple tree always convinced it has so much embarrassing news about reincarnation\n",
      "news : scammed : the u.n. has begun conducting emergency airdrops of female marines\n",
      "staples brings on extra staff to sit on the planet has been spotted sweeping the nation is begging whatever ultra-elite secret society of grotesque mutants discovered living in a prison of his miniature train set\n",
      "bathroom smells like weed\n",
      "comments section of six city blocks\n",
      "family comes first , only more insecure and drunk\n"
     ]
    }
   ],
   "source": [
    "from markov_chain import generate_text\n",
    "\n",
    "# Read in the headline data\n",
    "headline_data = pd.read_csv(\"./data/cleaned_headlines.csv\")\n",
    "\n",
    "# Generate 10 sarcastic headlines\n",
    "generate_text(headline_data, \"sarcastic\", \"headline\", 10)"
   ]
  },
  {
   "cell_type": "code",
   "execution_count": 4,
   "id": "fe802d64",
   "metadata": {},
   "outputs": [
    {
     "name": "stdout",
     "output_type": "stream",
     "text": [
      "american airline wins right to fix them\n",
      "an 18-year-old baltimore rioter faces a tough decision about his life when he attempts to lure soldiers into giving him tongue cancer\n",
      "rick santorum wants to build self-driving cars shows other drivers are too lazy to eat\n",
      "the darkness that will make you panic when you need to be autistic and tricking women into babysitting him\n",
      "mobile 5-year-old forced to install fire alarms\n",
      "people are interested in becoming a parent done to me : emotional intelligence can boost your career\n",
      "stolen moment of the year in jail\n",
      "girl retweeted by bieber gets death threats and denial for woman celebrating end of april\n",
      "enraged naked postal worker dons pants for first time since entering rehab\n",
      "reclaiming the sacred : five reasons to love my boyfriend , the importance of being young , the con artist with no appendix undergoes appendectomy , wonders if it helped russia\n"
     ]
    }
   ],
   "source": [
    "# Generate 10 non-sarcastic headlines\n",
    "generate_text(headline_data, \"non sarcastic\", \"headline\", 10)"
   ]
  },
  {
   "cell_type": "code",
   "execution_count": 13,
   "id": "6e6bd485",
   "metadata": {},
   "outputs": [
    {
     "name": "stdout",
     "output_type": "stream",
     "text": [
      "i love it when my classes get canceled . # not\n",
      "ac has to be learned from his story . speak out !\n",
      "12 hour day tomorrow should be sick more often lol # not ðÿ˜­\n",
      "i always love emergency doctor appointments . # fml # iwannagobacktobednow\n",
      "do n't you just love when i get hit . smh\n",
      "best way to end my night # not # pregnancyproblems # pregnancy\n",
      "i just noticed that i did n't have happened .\n",
      "being sick brings out the bitch in front of you . # imsmart # not\n",
      "nothing gets me quite as good as waking up the whole office in the end i just love it when my brackets come off my teeth ðÿ˜œ # not\n",
      "when michele obama trying to fit in ! # not\n"
     ]
    }
   ],
   "source": [
    "# Read in the twitter data\n",
    "headline_data = pd.read_csv(\"./data/cleaned_tweets.csv\")\n",
    "\n",
    "# Generate 10 sarcastic tweets\n",
    "generate_text(headline_data, \"sarcastic\", \"tweet\", 10)"
   ]
  },
  {
   "cell_type": "code",
   "execution_count": 14,
   "id": "c4af9b82",
   "metadata": {},
   "outputs": [
    {
     "name": "stdout",
     "output_type": "stream",
     "text": [
      "i really dislike and then one day never speak up\n",
      "goodbye from zen ! great to see so many levels # music # truth # love\n",
      "why not tell them to present so they lose the ability to speak so disparagingly of us\n",
      "i dont care , you could just learn so much as speak to you\n",
      "idgaf , what people are so personal so usually i recommend you go to the manager , shit go ahead lmfao\n",
      "books are so untrustworthy that they feel the want to speak my mind\n",
      "the thoughts you think they learn to speak . so when i speak to u tomorrow ¤_¤\n",
      "yes . i was n't lookin for u\n",
      "i feel so weird how you can speak malay\n",
      "do n't speak for so long\n"
     ]
    }
   ],
   "source": [
    "# Read in the twitter data\n",
    "headline_data = pd.read_csv(\"./data/cleaned_tweets.csv\")\n",
    "\n",
    "# Generate 10 non-sarcastic tweets\n",
    "generate_text(headline_data, \"non sarcastic\", \"tweet\", 10)"
   ]
  },
  {
   "cell_type": "code",
   "execution_count": null,
   "id": "10ac9dbd",
   "metadata": {},
   "outputs": [],
   "source": []
  }
 ],
 "metadata": {
  "kernelspec": {
   "display_name": "Python 3 (ipykernel)",
   "language": "python",
   "name": "python3"
  },
  "language_info": {
   "codemirror_mode": {
    "name": "ipython",
    "version": 3
   },
   "file_extension": ".py",
   "mimetype": "text/x-python",
   "name": "python",
   "nbconvert_exporter": "python",
   "pygments_lexer": "ipython3",
   "version": "3.9.15"
  }
 },
 "nbformat": 4,
 "nbformat_minor": 5
}
