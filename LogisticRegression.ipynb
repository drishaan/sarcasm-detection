{
 "cells": [
  {
   "cell_type": "code",
   "execution_count": 2,
   "id": "7c7ab158",
   "metadata": {},
   "outputs": [],
   "source": [
    "%load_ext autoreload\n",
    "%autoreload 2\n",
    "\n",
    "import re\n",
    "\n",
    "import pandas as pd\n",
    "import numpy as np\n",
    "import matplotlib.pyplot as plt\n",
    "import seaborn as sns\n",
    "\n",
    "from sklearn.svm import LinearSVC\n",
    "from sklearn.linear_model import LogisticRegression\n",
    "from sklearn.naive_bayes import MultinomialNB\n",
    "from sklearn.feature_extraction.text import CountVectorizer\n",
    "from sklearn.model_selection import train_test_split\n",
    "\n",
    "from sklearn.metrics import accuracy_score, roc_auc_score, f1_score"
   ]
  },
  {
   "cell_type": "code",
   "execution_count": 3,
   "id": "4b09d23c",
   "metadata": {
    "scrolled": true
   },
   "outputs": [
    {
     "name": "stdout",
     "output_type": "stream",
     "text": [
      "****** Running Models *******\n",
      "Using gram = 1 and stopwords:\n",
      "f1_score: 0.7909864336629111\n",
      "accuracy_score: 0.8272519954389966\n",
      "roc_auc_score: 0.897613763631005\n",
      "________________________\n",
      "Using gram = 2 and stopwords:\n",
      "f1_score: 0.8126709206927984\n",
      "accuracy_score: 0.8437856328392246\n",
      "roc_auc_score: 0.9164236663719423\n",
      "________________________\n",
      "Using gram = 3 and stopwords:\n",
      "f1_score: 0.808952468850946\n",
      "accuracy_score: 0.8426453819840365\n",
      "roc_auc_score: 0.915719864426761\n",
      "________________________\n",
      "Using gram = 1 and no stopwords:\n",
      "f1_score: 0.7604263206672845\n",
      "accuracy_score: 0.8034967692892436\n",
      "roc_auc_score: 0.8829465075154731\n",
      "________________________\n",
      "Using gram = 2 and no stopwords:\n",
      "f1_score: 0.788785046728972\n",
      "accuracy_score: 0.8282022044849867\n",
      "roc_auc_score: 0.901957707043914\n",
      "________________________\n",
      "Using gram = 3 and no stopwords:\n",
      "f1_score: 0.7857311599338531\n",
      "accuracy_score: 0.8276320790573927\n",
      "roc_auc_score: 0.9014196875921013\n",
      "________________________\n",
      "Best params based on f1 was {'stopwords': True, 'gram_size': 2} with a score of 0.8126709206927984\n"
     ]
    }
   ],
   "source": [
    "from logistic_regression import run_models\n",
    "\n",
    "# Read in the headline data\n",
    "headline_data = pd.read_csv(\"./data/cleaned_headlines.csv\")\n",
    "\n",
    "run_models(headline_data, gram=3)"
   ]
  },
  {
   "cell_type": "code",
   "execution_count": 5,
   "id": "74b45b63",
   "metadata": {},
   "outputs": [
    {
     "name": "stdout",
     "output_type": "stream",
     "text": [
      "****** Running Models *******\n",
      "Using gram = 1 and stopwords:\n",
      "f1_score: 0.9191919191919192\n",
      "accuracy_score: 0.9195979899497487\n",
      "roc_auc_score: 0.9618960986456437\n",
      "________________________\n",
      "Using gram = 2 and stopwords:\n",
      "f1_score: 0.914572864321608\n",
      "accuracy_score: 0.914572864321608\n",
      "roc_auc_score: 0.9642207398423286\n",
      "________________________\n",
      "Using gram = 3 and stopwords:\n",
      "f1_score: 0.914572864321608\n",
      "accuracy_score: 0.914572864321608\n",
      "roc_auc_score: 0.9640185971295734\n",
      "________________________\n",
      "Using gram = 1 and no stopwords:\n",
      "f1_score: 0.9191919191919192\n",
      "accuracy_score: 0.9195979899497487\n",
      "roc_auc_score: 0.9595714574489589\n",
      "________________________\n",
      "Using gram = 2 and no stopwords:\n",
      "f1_score: 0.9238578680203046\n",
      "accuracy_score: 0.9246231155778895\n",
      "roc_auc_score: 0.9550232464119669\n",
      "________________________\n",
      "Using gram = 3 and no stopwords:\n",
      "f1_score: 0.9238578680203046\n",
      "accuracy_score: 0.9246231155778895\n",
      "roc_auc_score: 0.955225389124722\n",
      "________________________\n",
      "Best params based on f1 was {'stopwords': False, 'gram_size': 2} with a score of 0.9238578680203046\n"
     ]
    }
   ],
   "source": [
    "# Read in the twitter data\n",
    "twitter_data = pd.read_csv(\"./data/cleaned_tweets.csv\")\n",
    "\n",
    "# Run the model on a small set of hyperparameters\n",
    "run_models(twitter_data, gram=3)"
   ]
  },
  {
   "cell_type": "code",
   "execution_count": null,
   "id": "31385e97",
   "metadata": {},
   "outputs": [],
   "source": []
  }
 ],
 "metadata": {
  "kernelspec": {
   "display_name": "Python 3 (ipykernel)",
   "language": "python",
   "name": "python3"
  },
  "language_info": {
   "codemirror_mode": {
    "name": "ipython",
    "version": 3
   },
   "file_extension": ".py",
   "mimetype": "text/x-python",
   "name": "python",
   "nbconvert_exporter": "python",
   "pygments_lexer": "ipython3",
   "version": "3.9.15"
  }
 },
 "nbformat": 4,
 "nbformat_minor": 5
}
