{
 "cells": [
  {
   "cell_type": "code",
   "execution_count": 1,
   "id": "7c7ab158",
   "metadata": {},
   "outputs": [],
   "source": [
    "%load_ext autoreload\n",
    "%autoreload 2\n",
    "\n",
    "import re\n",
    "\n",
    "import pandas as pd\n",
    "import numpy as np\n",
    "import matplotlib.pyplot as plt\n",
    "import seaborn as sns\n",
    "\n",
    "from sklearn.svm import LinearSVC\n",
    "from sklearn.linear_model import LogisticRegression\n",
    "from sklearn.naive_bayes import MultinomialNB\n",
    "from sklearn.feature_extraction.text import CountVectorizer\n",
    "from sklearn.model_selection import train_test_split\n",
    "\n",
    "from sklearn.metrics import accuracy_score, roc_auc_score, f1_score"
   ]
  },
  {
   "cell_type": "code",
   "execution_count": 3,
   "id": "4b09d23c",
   "metadata": {
    "scrolled": true
   },
   "outputs": [
    {
     "name": "stdout",
     "output_type": "stream",
     "text": [
      "****** Running Models *******\n",
      "Using gram = 1 and stopwords:\n",
      "f1_score: 0.7909864336629111\n",
      "accuracy_score: 0.8272519954389966\n",
      "roc_auc_score: 0.897613763631005\n",
      "________________________\n",
      "Using gram = 2 and stopwords:\n",
      "f1_score: 0.8126709206927984\n",
      "accuracy_score: 0.8437856328392246\n",
      "roc_auc_score: 0.9164236663719423\n",
      "________________________\n",
      "Using gram = 3 and stopwords:\n",
      "f1_score: 0.808952468850946\n",
      "accuracy_score: 0.8426453819840365\n",
      "roc_auc_score: 0.915719864426761\n",
      "________________________\n",
      "Using gram = 1 and no stopwords:\n",
      "f1_score: 0.7604263206672845\n",
      "accuracy_score: 0.8034967692892436\n",
      "roc_auc_score: 0.8829465075154731\n",
      "________________________\n",
      "Using gram = 2 and no stopwords:\n",
      "f1_score: 0.788785046728972\n",
      "accuracy_score: 0.8282022044849867\n",
      "roc_auc_score: 0.901957707043914\n",
      "________________________\n",
      "Using gram = 3 and no stopwords:\n",
      "f1_score: 0.7857311599338531\n",
      "accuracy_score: 0.8276320790573927\n",
      "roc_auc_score: 0.9014196875921013\n",
      "________________________\n",
      "Best params based on f1 was {'stopwords': True, 'gram_size': 2} with a score of 0.8126709206927984\n",
      "________________________\n",
      "****** Tuning Hyperparameters *******\n"
     ]
    },
    {
     "name": "stderr",
     "output_type": "stream",
     "text": [
      "/Users/drishaanjain/opt/anaconda3/envs/eecs487/lib/python3.9/site-packages/sklearn/svm/_base.py:1244: ConvergenceWarning: Liblinear failed to converge, increase the number of iterations.\n",
      "  warnings.warn(\n",
      "/Users/drishaanjain/opt/anaconda3/envs/eecs487/lib/python3.9/site-packages/sklearn/model_selection/_validation.py:378: FitFailedWarning: \n",
      "6 fits failed out of a total of 24.\n",
      "The score on these train-test partitions for these parameters will be set to nan.\n",
      "If these failures are not expected, you can try to debug them by setting error_score='raise'.\n",
      "\n",
      "Below are more details about the failures:\n",
      "--------------------------------------------------------------------------------\n",
      "6 fits failed with the following error:\n",
      "Traceback (most recent call last):\n",
      "  File \"/Users/drishaanjain/opt/anaconda3/envs/eecs487/lib/python3.9/site-packages/sklearn/model_selection/_validation.py\", line 686, in _fit_and_score\n",
      "    estimator.fit(X_train, y_train, **fit_params)\n",
      "  File \"/Users/drishaanjain/opt/anaconda3/envs/eecs487/lib/python3.9/site-packages/sklearn/linear_model/_logistic.py\", line 1162, in fit\n",
      "    solver = _check_solver(self.solver, self.penalty, self.dual)\n",
      "  File \"/Users/drishaanjain/opt/anaconda3/envs/eecs487/lib/python3.9/site-packages/sklearn/linear_model/_logistic.py\", line 54, in _check_solver\n",
      "    raise ValueError(\n",
      "ValueError: Solver lbfgs supports only 'l2' or 'none' penalties, got l1 penalty.\n",
      "\n",
      "  warnings.warn(some_fits_failed_message, FitFailedWarning)\n",
      "/Users/drishaanjain/opt/anaconda3/envs/eecs487/lib/python3.9/site-packages/sklearn/model_selection/_search.py:953: UserWarning: One or more of the test scores are non-finite: [       nan 0.71778791 0.73584189 0.73584189        nan 0.72215887\n",
      " 0.73679209 0.73679209]\n",
      "  warnings.warn(\n"
     ]
    },
    {
     "name": "stdout",
     "output_type": "stream",
     "text": [
      "best hyperparameters: {'C': 2.0, 'penalty': 'l2', 'solver': 'lbfgs'}\n",
      "f1_score: 0.695945945945946\n",
      "accuracy_score: 0.7605473204104903\n",
      "roc_auc_score: 0.8356667379201693\n"
     ]
    }
   ],
   "source": [
    "from logistic_regression import run_models\n",
    "\n",
    "# Read in the headline data\n",
    "headline_data = pd.read_csv(\"./data/cleaned_headlines.csv\")\n",
    "\n",
    "run_models(headline_data, gram=3)"
   ]
  },
  {
   "cell_type": "code",
   "execution_count": 4,
   "id": "74b45b63",
   "metadata": {},
   "outputs": [
    {
     "name": "stdout",
     "output_type": "stream",
     "text": [
      "****** Running Models *******\n",
      "Using gram = 1 and stopwords:\n",
      "f1_score: 0.9191919191919192\n",
      "accuracy_score: 0.9195979899497487\n",
      "roc_auc_score: 0.9618960986456437\n",
      "________________________\n",
      "Using gram = 2 and stopwords:\n",
      "f1_score: 0.914572864321608\n",
      "accuracy_score: 0.914572864321608\n",
      "roc_auc_score: 0.9642207398423286\n",
      "________________________\n",
      "Using gram = 3 and stopwords:\n",
      "f1_score: 0.914572864321608\n",
      "accuracy_score: 0.914572864321608\n",
      "roc_auc_score: 0.9640185971295734\n",
      "________________________\n",
      "Using gram = 1 and no stopwords:\n",
      "f1_score: 0.9191919191919192\n",
      "accuracy_score: 0.9195979899497487\n",
      "roc_auc_score: 0.9595714574489589\n",
      "________________________\n",
      "Using gram = 2 and no stopwords:\n",
      "f1_score: 0.9238578680203046\n",
      "accuracy_score: 0.9246231155778895\n",
      "roc_auc_score: 0.9550232464119669\n",
      "________________________\n",
      "Using gram = 3 and no stopwords:\n",
      "f1_score: 0.9238578680203046\n",
      "accuracy_score: 0.9246231155778895\n",
      "roc_auc_score: 0.955225389124722\n",
      "________________________\n",
      "Best params based on f1 was {'stopwords': False, 'gram_size': 2} with a score of 0.9238578680203046\n",
      "________________________\n",
      "****** Tuning Hyperparameters *******\n",
      "best hyperparameters: {'C': 1.0, 'penalty': 'l1', 'solver': 'liblinear'}\n",
      "f1_score: 0.9042553191489361\n",
      "accuracy_score: 0.91\n",
      "roc_auc_score: 0.9317154054868858\n"
     ]
    },
    {
     "name": "stderr",
     "output_type": "stream",
     "text": [
      "/Users/drishaanjain/opt/anaconda3/envs/eecs487/lib/python3.9/site-packages/sklearn/model_selection/_validation.py:378: FitFailedWarning: \n",
      "6 fits failed out of a total of 24.\n",
      "The score on these train-test partitions for these parameters will be set to nan.\n",
      "If these failures are not expected, you can try to debug them by setting error_score='raise'.\n",
      "\n",
      "Below are more details about the failures:\n",
      "--------------------------------------------------------------------------------\n",
      "6 fits failed with the following error:\n",
      "Traceback (most recent call last):\n",
      "  File \"/Users/drishaanjain/opt/anaconda3/envs/eecs487/lib/python3.9/site-packages/sklearn/model_selection/_validation.py\", line 686, in _fit_and_score\n",
      "    estimator.fit(X_train, y_train, **fit_params)\n",
      "  File \"/Users/drishaanjain/opt/anaconda3/envs/eecs487/lib/python3.9/site-packages/sklearn/linear_model/_logistic.py\", line 1162, in fit\n",
      "    solver = _check_solver(self.solver, self.penalty, self.dual)\n",
      "  File \"/Users/drishaanjain/opt/anaconda3/envs/eecs487/lib/python3.9/site-packages/sklearn/linear_model/_logistic.py\", line 54, in _check_solver\n",
      "    raise ValueError(\n",
      "ValueError: Solver lbfgs supports only 'l2' or 'none' penalties, got l1 penalty.\n",
      "\n",
      "  warnings.warn(some_fits_failed_message, FitFailedWarning)\n",
      "/Users/drishaanjain/opt/anaconda3/envs/eecs487/lib/python3.9/site-packages/sklearn/model_selection/_search.py:953: UserWarning: One or more of the test scores are non-finite: [       nan 0.92454395 0.91451832 0.91451832        nan 0.92454395\n",
      " 0.91451832 0.91451832]\n",
      "  warnings.warn(\n"
     ]
    }
   ],
   "source": [
    "# Read in the twitter data\n",
    "twitter_data = pd.read_csv(\"./data/cleaned_tweets.csv\")\n",
    "\n",
    "# Run the model on a small set of hyperparameters\n",
    "run_models(twitter_data, gram=3)"
   ]
  },
  {
   "cell_type": "code",
   "execution_count": null,
   "id": "31385e97",
   "metadata": {},
   "outputs": [],
   "source": []
  }
 ],
 "metadata": {
  "kernelspec": {
   "display_name": "Python 3 (ipykernel)",
   "language": "python",
   "name": "python3"
  },
  "language_info": {
   "codemirror_mode": {
    "name": "ipython",
    "version": 3
   },
   "file_extension": ".py",
   "mimetype": "text/x-python",
   "name": "python",
   "nbconvert_exporter": "python",
   "pygments_lexer": "ipython3",
   "version": "3.9.15"
  }
 },
 "nbformat": 4,
 "nbformat_minor": 5
}
