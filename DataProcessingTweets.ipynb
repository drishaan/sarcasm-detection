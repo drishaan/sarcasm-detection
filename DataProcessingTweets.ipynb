{
 "cells": [
  {
   "cell_type": "code",
   "execution_count": 1,
   "id": "5322ea30",
   "metadata": {
    "scrolled": true
   },
   "outputs": [],
   "source": [
    "# Imports\n",
    "import pandas as pd\n",
    "import json\n",
    "import matplotlib.pyplot as plt\n",
    "import seaborn as sns\n",
    "import nltk\n",
    "from nltk.corpus import stopwords\n",
    "from nltk import word_tokenize"
   ]
  },
  {
   "cell_type": "code",
   "execution_count": 4,
   "id": "6be3a5b5",
   "metadata": {},
   "outputs": [
    {
     "data": {
      "text/html": [
       "<div>\n",
       "<style scoped>\n",
       "    .dataframe tbody tr th:only-of-type {\n",
       "        vertical-align: middle;\n",
       "    }\n",
       "\n",
       "    .dataframe tbody tr th {\n",
       "        vertical-align: top;\n",
       "    }\n",
       "\n",
       "    .dataframe thead th {\n",
       "        text-align: right;\n",
       "    }\n",
       "</style>\n",
       "<table border=\"1\" class=\"dataframe\">\n",
       "  <thead>\n",
       "    <tr style=\"text-align: right;\">\n",
       "      <th></th>\n",
       "      <th>tweets</th>\n",
       "      <th>label</th>\n",
       "    </tr>\n",
       "  </thead>\n",
       "  <tbody>\n",
       "    <tr>\n",
       "      <th>0</th>\n",
       "      <td>I love working midnights tweet</td>\n",
       "      <td>1</td>\n",
       "    </tr>\n",
       "    <tr>\n",
       "      <th>1</th>\n",
       "      <td>I hate when I buy a bag of air and there's chi...</td>\n",
       "      <td>1</td>\n",
       "    </tr>\n",
       "    <tr>\n",
       "      <th>2</th>\n",
       "      <td>my grandad always sounds so ill when i speak t...</td>\n",
       "      <td>0</td>\n",
       "    </tr>\n",
       "    <tr>\n",
       "      <th>3</th>\n",
       "      <td>I realize I'm annoying to everyone, so I won't...</td>\n",
       "      <td>0</td>\n",
       "    </tr>\n",
       "    <tr>\n",
       "      <th>4</th>\n",
       "      <td>I love when I find these dudes on vine!! #Foll...</td>\n",
       "      <td>1</td>\n",
       "    </tr>\n",
       "  </tbody>\n",
       "</table>\n",
       "</div>"
      ],
      "text/plain": [
       "                                              tweets  label\n",
       "0                    I love working midnights tweet       1\n",
       "1  I hate when I buy a bag of air and there's chi...      1\n",
       "2  my grandad always sounds so ill when i speak t...      0\n",
       "3  I realize I'm annoying to everyone, so I won't...      0\n",
       "4  I love when I find these dudes on vine!! #Foll...      1"
      ]
     },
     "execution_count": 4,
     "metadata": {},
     "output_type": "execute_result"
    }
   ],
   "source": [
    "# Load the data\n",
    "tweets_df = pd.read_csv(\"data/tweets.csv\")\n",
    "tweets_df.head()"
   ]
  },
  {
   "cell_type": "code",
   "execution_count": 6,
   "id": "4f750387",
   "metadata": {},
   "outputs": [
    {
     "data": {
      "text/plain": [
       "tweet           0\n",
       "is_sarcastic    0\n",
       "dtype: int64"
      ]
     },
     "execution_count": 6,
     "metadata": {},
     "output_type": "execute_result"
    }
   ],
   "source": [
    "# Check for NaN values\n",
    "tweets_df.rename(columns={'tweets': 'tweet', 'label': 'is_sarcastic'}, inplace=True)\n",
    "tweets_df.isna().sum()"
   ]
  },
  {
   "cell_type": "code",
   "execution_count": 7,
   "id": "ddf6adce",
   "metadata": {},
   "outputs": [
    {
     "data": {
      "text/plain": [
       "0    1020\n",
       "1     974\n",
       "Name: is_sarcastic, dtype: int64"
      ]
     },
     "execution_count": 7,
     "metadata": {},
     "output_type": "execute_result"
    }
   ],
   "source": [
    "# Explore distribution\n",
    "tweets_df['is_sarcastic'].value_counts()"
   ]
  },
  {
   "cell_type": "code",
   "execution_count": 9,
   "id": "d9a927b8",
   "metadata": {
    "scrolled": true
   },
   "outputs": [
    {
     "data": {
      "text/plain": [
       "<Axes: xlabel='is_sarcastic', ylabel='count'>"
      ]
     },
     "execution_count": 9,
     "metadata": {},
     "output_type": "execute_result"
    },
    {
     "data": {
      "image/png": "[encoded data removed]",
      "text/plain": [
       "<Figure size 640x480 with 1 Axes>"
      ]
     },
     "metadata": {},
     "output_type": "display_data"
    }
   ],
   "source": [
    "sns.countplot(x='is_sarcastic', data=tweets_df)"
   ]
  },
  {
   "cell_type": "code",
   "execution_count": 11,
   "id": "efe49d7a",
   "metadata": {},
   "outputs": [
    {
     "name": "stdout",
     "output_type": "stream",
     "text": [
      "speak     947\n",
      "i'm       144\n",
      "know      116\n",
      "like      113\n",
      "people    106\n",
      "much       90\n",
      "want       83\n",
      "get        73\n",
      "even       60\n",
      "would      60\n",
      "dtype: int64\n"
     ]
    }
   ],
   "source": [
    "# Most common words in non-sarcastic tweets\n",
    "tweets_df['tweet'] = tweets_df['tweet'].str.lower()\n",
    "stop = set(stopwords.words('english'))\n",
    "common_words_ns = ' '.join(tweets_df[tweets_df.is_sarcastic == 0].tweet).split()\n",
    "common_words_ns = [word for word in common_words_ns if word not in stop]\n",
    "common_words_ns = pd.Series(common_words_ns)\n",
    "print(common_words_ns.value_counts()[:10])"
   ]
  },
  {
   "cell_type": "code",
   "execution_count": 12,
   "id": "95712f1a",
   "metadata": {},
   "outputs": [
    {
     "name": "stdout",
     "output_type": "stream",
     "text": [
      "#not      439\n",
      "love      351\n",
      "i'm       120\n",
      "speak      88\n",
      "good       73\n",
      "like       71\n",
      "people     59\n",
      "get        43\n",
      "know       43\n",
      "day        43\n",
      "dtype: int64\n"
     ]
    }
   ],
   "source": [
    "# Most common words in sarcastic tweets\n",
    "common_words_s = ' '.join(tweets_df[tweets_df.is_sarcastic == 1].tweet).split()\n",
    "common_words_s = [word for word in common_words_s if word not in stop]\n",
    "common_words_s = pd.Series(common_words_s)\n",
    "print(common_words_s.value_counts()[:10])"
   ]
  },
  {
   "cell_type": "code",
   "execution_count": 15,
   "id": "11332c33",
   "metadata": {},
   "outputs": [
    {
     "data": {
      "text/html": [
       "<div>\n",
       "<style scoped>\n",
       "    .dataframe tbody tr th:only-of-type {\n",
       "        vertical-align: middle;\n",
       "    }\n",
       "\n",
       "    .dataframe tbody tr th {\n",
       "        vertical-align: top;\n",
       "    }\n",
       "\n",
       "    .dataframe thead th {\n",
       "        text-align: right;\n",
       "    }\n",
       "</style>\n",
       "<table border=\"1\" class=\"dataframe\">\n",
       "  <thead>\n",
       "    <tr style=\"text-align: right;\">\n",
       "      <th></th>\n",
       "      <th>frequency_ns</th>\n",
       "      <th>frequency_s</th>\n",
       "      <th>difference</th>\n",
       "    </tr>\n",
       "  </thead>\n",
       "  <tbody>\n",
       "    <tr>\n",
       "      <th>speak</th>\n",
       "      <td>947.0</td>\n",
       "      <td>88.0</td>\n",
       "      <td>859.0</td>\n",
       "    </tr>\n",
       "    <tr>\n",
       "      <th>#not</th>\n",
       "      <td>0.0</td>\n",
       "      <td>439.0</td>\n",
       "      <td>439.0</td>\n",
       "    </tr>\n",
       "    <tr>\n",
       "      <th>love</th>\n",
       "      <td>29.0</td>\n",
       "      <td>351.0</td>\n",
       "      <td>322.0</td>\n",
       "    </tr>\n",
       "    <tr>\n",
       "      <th>know</th>\n",
       "      <td>116.0</td>\n",
       "      <td>43.0</td>\n",
       "      <td>73.0</td>\n",
       "    </tr>\n",
       "    <tr>\n",
       "      <th>much</th>\n",
       "      <td>90.0</td>\n",
       "      <td>25.0</td>\n",
       "      <td>65.0</td>\n",
       "    </tr>\n",
       "  </tbody>\n",
       "</table>\n",
       "</div>"
      ],
      "text/plain": [
       "       frequency_ns  frequency_s  difference\n",
       "speak         947.0         88.0       859.0\n",
       "#not            0.0        439.0       439.0\n",
       "love           29.0        351.0       322.0\n",
       "know          116.0         43.0        73.0\n",
       "much           90.0         25.0        65.0"
      ]
     },
     "execution_count": 15,
     "metadata": {},
     "output_type": "execute_result"
    }
   ],
   "source": [
    "common_words_ns_df = common_words_ns.value_counts().to_frame(name=\"frequency_ns\")\n",
    "common_words_s_df = common_words_s.value_counts().to_frame(name=\"frequency_s\")\n",
    "merged_freq = pd.merge(common_words_ns_df, common_words_s_df, left_index=True, right_index=True, how=\"outer\")\n",
    "merged_freq['frequency_s'] = merged_freq['frequency_s'].fillna(0)\n",
    "merged_freq['frequency_ns'] = merged_freq['frequency_ns'].fillna(0)\n",
    "merged_freq[\"difference\"] = abs(merged_freq[\"frequency_ns\"] - merged_freq[\"frequency_s\"])\n",
    "merged_freq = merged_freq.sort_values(['difference'], ascending=[False])\n",
    "merged_freq.head()"
   ]
  },
  {
   "cell_type": "code",
   "execution_count": 16,
   "id": "34692bf4",
   "metadata": {},
   "outputs": [],
   "source": [
    "def remove_stopwords(tweet):\n",
    "    tweet_list = tweet.split()\n",
    "    return ' '.join([word for word in tweet_list if word not in stop])"
   ]
  },
  {
   "cell_type": "code",
   "execution_count": 17,
   "id": "d39835bf",
   "metadata": {},
   "outputs": [],
   "source": [
    "def tokenize(tweet):\n",
    "    tokenized = word_tokenize(tweet)\n",
    "    return ' '.join([word for word in tokenized])"
   ]
  },
  {
   "cell_type": "code",
   "execution_count": 18,
   "id": "9ad94f14",
   "metadata": {},
   "outputs": [
    {
     "data": {
      "text/html": [
       "<div>\n",
       "<style scoped>\n",
       "    .dataframe tbody tr th:only-of-type {\n",
       "        vertical-align: middle;\n",
       "    }\n",
       "\n",
       "    .dataframe tbody tr th {\n",
       "        vertical-align: top;\n",
       "    }\n",
       "\n",
       "    .dataframe thead th {\n",
       "        text-align: right;\n",
       "    }\n",
       "</style>\n",
       "<table border=\"1\" class=\"dataframe\">\n",
       "  <thead>\n",
       "    <tr style=\"text-align: right;\">\n",
       "      <th></th>\n",
       "      <th>tweet</th>\n",
       "      <th>is_sarcastic</th>\n",
       "      <th>no_stopwords</th>\n",
       "      <th>tokenized</th>\n",
       "      <th>tokenized_no_stopwords</th>\n",
       "    </tr>\n",
       "  </thead>\n",
       "  <tbody>\n",
       "    <tr>\n",
       "      <th>0</th>\n",
       "      <td>i love working midnights tweet</td>\n",
       "      <td>1</td>\n",
       "      <td>love working midnights tweet</td>\n",
       "      <td>i love working midnights tweet</td>\n",
       "      <td>love working midnights tweet</td>\n",
       "    </tr>\n",
       "    <tr>\n",
       "      <th>1</th>\n",
       "      <td>i hate when i buy a bag of air and there's chi...</td>\n",
       "      <td>1</td>\n",
       "      <td>hate buy bag air there's chips ðÿ˜’ #not</td>\n",
       "      <td>i hate when i buy a bag of air and there 's ch...</td>\n",
       "      <td>hate buy bag air there 's chips ðÿ˜ ’ # not</td>\n",
       "    </tr>\n",
       "    <tr>\n",
       "      <th>2</th>\n",
       "      <td>my grandad always sounds so ill when i speak t...</td>\n",
       "      <td>0</td>\n",
       "      <td>grandad always sounds ill speak phone</td>\n",
       "      <td>my grandad always sounds so ill when i speak t...</td>\n",
       "      <td>grandad always sounds ill speak phone</td>\n",
       "    </tr>\n",
       "    <tr>\n",
       "      <th>3</th>\n",
       "      <td>i realize i'm annoying to everyone, so i won't...</td>\n",
       "      <td>0</td>\n",
       "      <td>realize i'm annoying everyone, keep spamming y...</td>\n",
       "      <td>i realize i 'm annoying to everyone , so i wo ...</td>\n",
       "      <td>realize i 'm annoying everyone , keep spamming...</td>\n",
       "    </tr>\n",
       "    <tr>\n",
       "      <th>4</th>\n",
       "      <td>i love when i find these dudes on vine!! #foll...</td>\n",
       "      <td>1</td>\n",
       "      <td>love find dudes vine!! #followme #giveaway #xb...</td>\n",
       "      <td>i love when i find these dudes on vine ! ! # f...</td>\n",
       "      <td>love find dudes vine ! ! # followme # giveaway...</td>\n",
       "    </tr>\n",
       "  </tbody>\n",
       "</table>\n",
       "</div>"
      ],
      "text/plain": [
       "                                               tweet  is_sarcastic  \\\n",
       "0                    i love working midnights tweet              1   \n",
       "1  i hate when i buy a bag of air and there's chi...             1   \n",
       "2  my grandad always sounds so ill when i speak t...             0   \n",
       "3  i realize i'm annoying to everyone, so i won't...             0   \n",
       "4  i love when i find these dudes on vine!! #foll...             1   \n",
       "\n",
       "                                        no_stopwords  \\\n",
       "0                       love working midnights tweet   \n",
       "1           hate buy bag air there's chips ðÿ˜’ #not   \n",
       "2              grandad always sounds ill speak phone   \n",
       "3  realize i'm annoying everyone, keep spamming y...   \n",
       "4  love find dudes vine!! #followme #giveaway #xb...   \n",
       "\n",
       "                                           tokenized  \\\n",
       "0                     i love working midnights tweet   \n",
       "1  i hate when i buy a bag of air and there 's ch...   \n",
       "2  my grandad always sounds so ill when i speak t...   \n",
       "3  i realize i 'm annoying to everyone , so i wo ...   \n",
       "4  i love when i find these dudes on vine ! ! # f...   \n",
       "\n",
       "                              tokenized_no_stopwords  \n",
       "0                       love working midnights tweet  \n",
       "1        hate buy bag air there 's chips ðÿ˜ ’ # not  \n",
       "2              grandad always sounds ill speak phone  \n",
       "3  realize i 'm annoying everyone , keep spamming...  \n",
       "4  love find dudes vine ! ! # followme # giveaway...  "
      ]
     },
     "execution_count": 18,
     "metadata": {},
     "output_type": "execute_result"
    }
   ],
   "source": [
    "# Create columns with processed version of tweets\n",
    "cleaned_tweets_df = tweets_df.copy()\n",
    "cleaned_tweets_df['no_stopwords'] = cleaned_tweets_df.tweet.apply(remove_stopwords)\n",
    "cleaned_tweets_df['tokenized'] = cleaned_tweets_df.tweet.apply(tokenize)\n",
    "cleaned_tweets_df['tokenized_no_stopwords'] = cleaned_tweets_df.no_stopwords.apply(tokenize)\n",
    "cleaned_tweets_df.head()"
   ]
  },
  {
   "cell_type": "code",
   "execution_count": 19,
   "id": "012ace7f",
   "metadata": {},
   "outputs": [],
   "source": [
    "# Save cleaned data\n",
    "cleaned_tweets_df.to_csv(\"data/cleaned_tweets.csv\")"
   ]
  },
  {
   "cell_type": "code",
   "execution_count": null,
   "id": "7167f313",
   "metadata": {},
   "outputs": [],
   "source": []
  }
 ],
 "metadata": {
  "kernelspec": {
   "display_name": "Python 3 (ipykernel)",
   "language": "python",
   "name": "python3"
  },
  "language_info": {
   "codemirror_mode": {
    "name": "ipython",
    "version": 3
   },
   "file_extension": ".py",
   "mimetype": "text/x-python",
   "name": "python",
   "nbconvert_exporter": "python",
   "pygments_lexer": "ipython3",
   "version": "3.9.15"
  }
 },
 "nbformat": 4,
 "nbformat_minor": 5
}
