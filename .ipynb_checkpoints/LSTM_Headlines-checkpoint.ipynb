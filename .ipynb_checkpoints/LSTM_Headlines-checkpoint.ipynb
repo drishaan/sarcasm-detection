{
 "cells": [
  {
   "cell_type": "code",
   "execution_count": 1,
   "metadata": {
    "colab": {
     "base_uri": "https://localhost:8080/"
    },
    "executionInfo": {
     "elapsed": 21233,
     "status": "ok",
     "timestamp": 1680906484087,
     "user": {
      "displayName": "Benjamin Collins",
      "userId": "03123555785279573958"
     },
     "user_tz": 240
    },
    "id": "Svrn-r6mSz-_",
    "outputId": "d98d2bb0-0217-4fdc-d37c-43de66cfb7d0"
   },
   "outputs": [
    {
     "name": "stdout",
     "output_type": "stream",
     "text": [
      "Mounted at /content/drive\n"
     ]
    }
   ],
   "source": [
    "# Mount to your drive to access folders\n",
    "from google.colab import drive\n",
    "drive.mount('/content/drive')"
   ]
  },
  {
   "cell_type": "code",
   "execution_count": 2,
   "metadata": {
    "colab": {
     "base_uri": "https://localhost:8080/"
    },
    "executionInfo": {
     "elapsed": 831,
     "status": "ok",
     "timestamp": 1680906484912,
     "user": {
      "displayName": "Benjamin Collins",
      "userId": "03123555785279573958"
     },
     "user_tz": 240
    },
    "id": "eSXzx6lFS7Ha",
    "outputId": "cb88ca74-a5a2-4a5d-fbc6-f2becf7e234f"
   },
   "outputs": [
    {
     "name": "stdout",
     "output_type": "stream",
     "text": [
      "['Project Proposal Brainstorm.gdoc', 'cleaned_headlines.csv', 'vectors.kv', 'vectors.kv.vectors.npy', 'Questions for Prof.gdoc', 'Notes For Progress Report.gdoc', 'BERT.ipynb', 'cleaned_tweets.csv', 'Notes for Presentation.gdoc', 'LSTM_Headlines.ipynb', 'LSTM_Tweets.ipynb']\n"
     ]
    }
   ],
   "source": [
    "# Add filepath to the project\n",
    "import os\n",
    "import sys\n",
    "\n",
    "GOOGLE_DRIVE_PATH_AFTER_MYDRIVE = '/content/drive/MyDrive/Junior Year/EECS 487/Group Project'\n",
    "GOOGLE_DRIVE_PATH = os.path.join('drive', 'My Drive', GOOGLE_DRIVE_PATH_AFTER_MYDRIVE)\n",
    "print(os.listdir(GOOGLE_DRIVE_PATH))\n",
    "os.chdir(GOOGLE_DRIVE_PATH)"
   ]
  },
  {
   "cell_type": "code",
   "execution_count": 3,
   "metadata": {
    "executionInfo": {
     "elapsed": 7770,
     "status": "ok",
     "timestamp": 1680906492678,
     "user": {
      "displayName": "Benjamin Collins",
      "userId": "03123555785279573958"
     },
     "user_tz": 240
    },
    "id": "4adBCJLAI9Za"
   },
   "outputs": [],
   "source": [
    "# Import tensorflow and other important packages\n",
    "import tensorflow as tf\n",
    "\n",
    "from tensorflow.keras.datasets import imdb\n",
    "from tensorflow.keras.layers import Embedding, Dense, LSTM\n",
    "from tensorflow.keras.losses import BinaryCrossentropy\n",
    "from tensorflow.keras.models import Sequential\n",
    "from tensorflow.keras.optimizers.legacy import Adam\n",
    "from tensorflow.keras.preprocessing.sequence import pad_sequences\n",
    "\n",
    "import pandas as pd\n",
    "import numpy as np\n",
    "from gensim.models import KeyedVectors\n",
    "from sklearn.model_selection import train_test_split"
   ]
  },
  {
   "cell_type": "code",
   "execution_count": 4,
   "metadata": {
    "executionInfo": {
     "elapsed": 14,
     "status": "ok",
     "timestamp": 1680906492680,
     "user": {
      "displayName": "Benjamin Collins",
      "userId": "03123555785279573958"
     },
     "user_tz": 240
    },
    "id": "XPyzbR4POP_b"
   },
   "outputs": [],
   "source": [
    "# Model configuration\n",
    "additional_metrics = ['accuracy']\n",
    "batch_size = 128\n",
    "embedding_output_dims = 100\n",
    "loss_function = BinaryCrossentropy()\n",
    "num_distinct_words = 15000\n",
    "number_of_epochs = 5\n",
    "optimizer = Adam()\n",
    "validation_split = 0.20\n",
    "verbosity_mode = 1"
   ]
  },
  {
   "cell_type": "code",
   "execution_count": 5,
   "metadata": {
    "executionInfo": {
     "elapsed": 13,
     "status": "ok",
     "timestamp": 1680906492681,
     "user": {
      "displayName": "Benjamin Collins",
      "userId": "03123555785279573958"
     },
     "user_tz": 240
    },
    "id": "rUjXdqPTOT-B"
   },
   "outputs": [],
   "source": [
    "# Disable eager execution\n",
    "tf.compat.v1.disable_eager_execution()"
   ]
  },
  {
   "cell_type": "code",
   "execution_count": 7,
   "metadata": {
    "colab": {
     "base_uri": "https://localhost:8080/",
     "height": 337
    },
    "executionInfo": {
     "elapsed": 8240,
     "status": "ok",
     "timestamp": 1680906500911,
     "user": {
      "displayName": "Benjamin Collins",
      "userId": "03123555785279573958"
     },
     "user_tz": 240
    },
    "id": "y0jDDyeLSogd",
    "outputId": "960ef1bd-1278-4434-9a41-e60af20d0806"
   },
   "outputs": [
    {
     "data": {
      "text/html": [
       "\n",
       "  <div id=\"df-f427cef6-8041-466a-9cf3-8557f6efc088\">\n",
       "    <div class=\"colab-df-container\">\n",
       "      <div>\n",
       "<style scoped>\n",
       "    .dataframe tbody tr th:only-of-type {\n",
       "        vertical-align: middle;\n",
       "    }\n",
       "\n",
       "    .dataframe tbody tr th {\n",
       "        vertical-align: top;\n",
       "    }\n",
       "\n",
       "    .dataframe thead th {\n",
       "        text-align: right;\n",
       "    }\n",
       "</style>\n",
       "<table border=\"1\" class=\"dataframe\">\n",
       "  <thead>\n",
       "    <tr style=\"text-align: right;\">\n",
       "      <th></th>\n",
       "      <th>is_sarcastic</th>\n",
       "      <th>headline</th>\n",
       "      <th>article_link</th>\n",
       "      <th>no_stopwords</th>\n",
       "      <th>tokenized</th>\n",
       "      <th>tokenized_no_stopwords</th>\n",
       "    </tr>\n",
       "  </thead>\n",
       "  <tbody>\n",
       "    <tr>\n",
       "      <th>0</th>\n",
       "      <td>1</td>\n",
       "      <td>thirtysomething scientists unveil doomsday clo...</td>\n",
       "      <td>https://www.theonion.com/thirtysomething-scien...</td>\n",
       "      <td>thirtysomething scientists unveil doomsday clo...</td>\n",
       "      <td>thirtysomething scientists unveil doomsday clo...</td>\n",
       "      <td>thirtysomething scientists unveil doomsday clo...</td>\n",
       "    </tr>\n",
       "    <tr>\n",
       "      <th>1</th>\n",
       "      <td>0</td>\n",
       "      <td>dem rep. totally nails why congress is falling...</td>\n",
       "      <td>https://www.huffingtonpost.com/entry/donna-edw...</td>\n",
       "      <td>dem rep. totally nails congress falling short ...</td>\n",
       "      <td>dem rep. totally nails why congress is falling...</td>\n",
       "      <td>dem rep. totally nails congress falling short ...</td>\n",
       "    </tr>\n",
       "    <tr>\n",
       "      <th>2</th>\n",
       "      <td>0</td>\n",
       "      <td>eat your veggies: 9 deliciously different recipes</td>\n",
       "      <td>https://www.huffingtonpost.com/entry/eat-your-...</td>\n",
       "      <td>eat veggies: 9 deliciously different recipes</td>\n",
       "      <td>eat your veggies : 9 deliciously different rec...</td>\n",
       "      <td>eat veggies : 9 deliciously different recipes</td>\n",
       "    </tr>\n",
       "    <tr>\n",
       "      <th>3</th>\n",
       "      <td>1</td>\n",
       "      <td>inclement weather prevents liar from getting t...</td>\n",
       "      <td>https://local.theonion.com/inclement-weather-p...</td>\n",
       "      <td>inclement weather prevents liar getting work</td>\n",
       "      <td>inclement weather prevents liar from getting t...</td>\n",
       "      <td>inclement weather prevents liar getting work</td>\n",
       "    </tr>\n",
       "    <tr>\n",
       "      <th>4</th>\n",
       "      <td>1</td>\n",
       "      <td>mother comes pretty close to using word 'strea...</td>\n",
       "      <td>https://www.theonion.com/mother-comes-pretty-c...</td>\n",
       "      <td>mother comes pretty close using word 'streamin...</td>\n",
       "      <td>mother comes pretty close to using word 'strea...</td>\n",
       "      <td>mother comes pretty close using word 'streamin...</td>\n",
       "    </tr>\n",
       "  </tbody>\n",
       "</table>\n",
       "</div>\n",
       "      <button class=\"colab-df-convert\" onclick=\"convertToInteractive('df-f427cef6-8041-466a-9cf3-8557f6efc088')\"\n",
       "              title=\"Convert this dataframe to an interactive table.\"\n",
       "              style=\"display:none;\">\n",
       "        \n",
       "  <svg xmlns=\"http://www.w3.org/2000/svg\" height=\"24px\"viewBox=\"0 0 24 24\"\n",
       "       width=\"24px\">\n",
       "    <path d=\"M0 0h24v24H0V0z\" fill=\"none\"/>\n",
       "    <path d=\"M18.56 5.44l.94 2.06.94-2.06 2.06-.94-2.06-.94-.94-2.06-.94 2.06-2.06.94zm-11 1L8.5 8.5l.94-2.06 2.06-.94-2.06-.94L8.5 2.5l-.94 2.06-2.06.94zm10 10l.94 2.06.94-2.06 2.06-.94-2.06-.94-.94-2.06-.94 2.06-2.06.94z\"/><path d=\"M17.41 7.96l-1.37-1.37c-.4-.4-.92-.59-1.43-.59-.52 0-1.04.2-1.43.59L10.3 9.45l-7.72 7.72c-.78.78-.78 2.05 0 2.83L4 21.41c.39.39.9.59 1.41.59.51 0 1.02-.2 1.41-.59l7.78-7.78 2.81-2.81c.8-.78.8-2.07 0-2.86zM5.41 20L4 18.59l7.72-7.72 1.47 1.35L5.41 20z\"/>\n",
       "  </svg>\n",
       "      </button>\n",
       "      \n",
       "  <style>\n",
       "    .colab-df-container {\n",
       "      display:flex;\n",
       "      flex-wrap:wrap;\n",
       "      gap: 12px;\n",
       "    }\n",
       "\n",
       "    .colab-df-convert {\n",
       "      background-color: #E8F0FE;\n",
       "      border: none;\n",
       "      border-radius: 50%;\n",
       "      cursor: pointer;\n",
       "      display: none;\n",
       "      fill: #1967D2;\n",
       "      height: 32px;\n",
       "      padding: 0 0 0 0;\n",
       "      width: 32px;\n",
       "    }\n",
       "\n",
       "    .colab-df-convert:hover {\n",
       "      background-color: #E2EBFA;\n",
       "      box-shadow: 0px 1px 2px rgba(60, 64, 67, 0.3), 0px 1px 3px 1px rgba(60, 64, 67, 0.15);\n",
       "      fill: #174EA6;\n",
       "    }\n",
       "\n",
       "    [theme=dark] .colab-df-convert {\n",
       "      background-color: #3B4455;\n",
       "      fill: #D2E3FC;\n",
       "    }\n",
       "\n",
       "    [theme=dark] .colab-df-convert:hover {\n",
       "      background-color: #434B5C;\n",
       "      box-shadow: 0px 1px 3px 1px rgba(0, 0, 0, 0.15);\n",
       "      filter: drop-shadow(0px 1px 2px rgba(0, 0, 0, 0.3));\n",
       "      fill: #FFFFFF;\n",
       "    }\n",
       "  </style>\n",
       "\n",
       "      <script>\n",
       "        const buttonEl =\n",
       "          document.querySelector('#df-f427cef6-8041-466a-9cf3-8557f6efc088 button.colab-df-convert');\n",
       "        buttonEl.style.display =\n",
       "          google.colab.kernel.accessAllowed ? 'block' : 'none';\n",
       "\n",
       "        async function convertToInteractive(key) {\n",
       "          const element = document.querySelector('#df-f427cef6-8041-466a-9cf3-8557f6efc088');\n",
       "          const dataTable =\n",
       "            await google.colab.kernel.invokeFunction('convertToInteractive',\n",
       "                                                     [key], {});\n",
       "          if (!dataTable) return;\n",
       "\n",
       "          const docLinkHtml = 'Like what you see? Visit the ' +\n",
       "            '<a target=\"_blank\" href=https://colab.research.google.com/notebooks/data_table.ipynb>data table notebook</a>'\n",
       "            + ' to learn more about interactive tables.';\n",
       "          element.innerHTML = '';\n",
       "          dataTable['output_type'] = 'display_data';\n",
       "          await google.colab.output.renderOutput(dataTable, element);\n",
       "          const docLink = document.createElement('div');\n",
       "          docLink.innerHTML = docLinkHtml;\n",
       "          element.appendChild(docLink);\n",
       "        }\n",
       "      </script>\n",
       "    </div>\n",
       "  </div>\n",
       "  "
      ],
      "text/plain": [
       "   is_sarcastic                                           headline  \\\n",
       "0             1  thirtysomething scientists unveil doomsday clo...   \n",
       "1             0  dem rep. totally nails why congress is falling...   \n",
       "2             0  eat your veggies: 9 deliciously different recipes   \n",
       "3             1  inclement weather prevents liar from getting t...   \n",
       "4             1  mother comes pretty close to using word 'strea...   \n",
       "\n",
       "                                        article_link  \\\n",
       "0  https://www.theonion.com/thirtysomething-scien...   \n",
       "1  https://www.huffingtonpost.com/entry/donna-edw...   \n",
       "2  https://www.huffingtonpost.com/entry/eat-your-...   \n",
       "3  https://local.theonion.com/inclement-weather-p...   \n",
       "4  https://www.theonion.com/mother-comes-pretty-c...   \n",
       "\n",
       "                                        no_stopwords  \\\n",
       "0  thirtysomething scientists unveil doomsday clo...   \n",
       "1  dem rep. totally nails congress falling short ...   \n",
       "2       eat veggies: 9 deliciously different recipes   \n",
       "3       inclement weather prevents liar getting work   \n",
       "4  mother comes pretty close using word 'streamin...   \n",
       "\n",
       "                                           tokenized  \\\n",
       "0  thirtysomething scientists unveil doomsday clo...   \n",
       "1  dem rep. totally nails why congress is falling...   \n",
       "2  eat your veggies : 9 deliciously different rec...   \n",
       "3  inclement weather prevents liar from getting t...   \n",
       "4  mother comes pretty close to using word 'strea...   \n",
       "\n",
       "                              tokenized_no_stopwords  \n",
       "0  thirtysomething scientists unveil doomsday clo...  \n",
       "1  dem rep. totally nails congress falling short ...  \n",
       "2      eat veggies : 9 deliciously different recipes  \n",
       "3       inclement weather prevents liar getting work  \n",
       "4  mother comes pretty close using word 'streamin...  "
      ]
     },
     "execution_count": 7,
     "metadata": {},
     "output_type": "execute_result"
    }
   ],
   "source": [
    "# Load in and check data\n",
    "data = pd.read_csv(\"./cleaned_headlines.csv\", index_col=\"Unnamed: 0\")\\\n",
    "data.head()"
   ]
  },
  {
   "cell_type": "code",
   "execution_count": 8,
   "metadata": {
    "executionInfo": {
     "elapsed": 3,
     "status": "ok",
     "timestamp": 1680906500911,
     "user": {
      "displayName": "Benjamin Collins",
      "userId": "03123555785279573958"
     },
     "user_tz": 240
    },
    "id": "5ozgaNvZWXJl"
   },
   "outputs": [],
   "source": [
    "# For now we'll do tokenized with stopwords\n",
    "data[\"split_tokens\"] = [headline.split(\" \") for headline in data.tokenized]\n",
    "max_sequence_length = max([len(headline) for headline in data.split_tokens])"
   ]
  },
  {
   "cell_type": "code",
   "execution_count": 9,
   "metadata": {
    "colab": {
     "base_uri": "https://localhost:8080/"
    },
    "executionInfo": {
     "elapsed": 432,
     "status": "ok",
     "timestamp": 1680906501503,
     "user": {
      "displayName": "Benjamin Collins",
      "userId": "03123555785279573958"
     },
     "user_tz": 240
    },
    "id": "-0N3PPhvAW8F",
    "outputId": "24022965-9c70-4e76-e5e3-daaca9107eb5"
   },
   "outputs": [
    {
     "name": "stdout",
     "output_type": "stream",
     "text": [
      "Downloading data from https://storage.googleapis.com/tensorflow/tf-keras-datasets/imdb_word_index.json\n",
      "1641221/1641221 [==============================] - 0s 0us/step\n",
      "[list([0, 3365, 0, 0, 5428, 4, 1150, 1934])\n",
      " list([0, 0, 481, 5570, 135, 11789, 6, 1451, 343, 20, 4669, 0, 4343, 14758])\n",
      " list([1897, 126, 0, 0, 787, 6919, 272, 0]) ...\n",
      " list([1, 88, 304, 5604, 2488, 11, 1266, 382, 36, 3, 14343, 3451])\n",
      " list([4596, 0, 2727, 31, 0, 0, 831, 5058])\n",
      " list([1243, 0, 11, 21, 3, 1641, 567])]\n"
     ]
    }
   ],
   "source": [
    "# Load up the numeric word encoder\n",
    "word_index = imdb.get_word_index()\n",
    "\n",
    "# Compute embeddings\n",
    "X = []\n",
    "for headline in data.split_tokens:\n",
    "  word_lst = []\n",
    "  for token in headline:\n",
    "    try:\n",
    "      temp = word_index[token]\n",
    "      word_lst.append(temp) if temp < num_distinct_words else word_lst.append(0)\n",
    "    except:\n",
    "      word_lst.append(0)\n",
    "  X.append(word_lst)\n",
    "X = np.array(X, dtype=object)\n",
    "print(X)\n",
    "\n",
    "# Extract the target variable\n",
    "y = data.is_sarcastic\n",
    "\n",
    "# Split the data\n",
    "X_train, X_test, y_train, y_test = train_test_split(X, y, train_size=0.8, random_state=487)\n",
    "\n",
    "# Pad all sequences\n",
    "padded_inputs = pad_sequences(X_train, maxlen=max_sequence_length, value = 0.0) # 0.0 because it corresponds with <PAD>\n",
    "padded_inputs_test = pad_sequences(X_test, maxlen=max_sequence_length, value = 0.0) # 0.0 because it corresponds with <PAD>"
   ]
  },
  {
   "cell_type": "code",
   "execution_count": 10,
   "metadata": {
    "colab": {
     "base_uri": "https://localhost:8080/"
    },
    "executionInfo": {
     "elapsed": 5,
     "status": "ok",
     "timestamp": 1680906501503,
     "user": {
      "displayName": "Benjamin Collins",
      "userId": "03123555785279573958"
     },
     "user_tz": 240
    },
    "id": "DA63bH6zi1t2",
    "outputId": "cfa9af87-33da-46d7-ec53-ad2b939ac773"
   },
   "outputs": [
    {
     "data": {
      "text/plain": [
       "array([[    0,     0,     0, ..., 13179,   205,   147],\n",
       "       [    0,     0,     0, ...,     0,  3447,     0],\n",
       "       [    0,     0,     0, ...,     0,    15,    22],\n",
       "       ...,\n",
       "       [    0,     0,     0, ...,     9,    13,  5371],\n",
       "       [    0,     0,     0, ...,  1630,    77,    64],\n",
       "       [    0,     0,     0, ...,     1,  5939,     0]], dtype=int32)"
      ]
     },
     "execution_count": 10,
     "metadata": {},
     "output_type": "execute_result"
    }
   ],
   "source": [
    "# Check the paddings\n",
    "padded_inputs"
   ]
  },
  {
   "cell_type": "code",
   "execution_count": 11,
   "metadata": {
    "executionInfo": {
     "elapsed": 479,
     "status": "ok",
     "timestamp": 1680906501980,
     "user": {
      "displayName": "Benjamin Collins",
      "userId": "03123555785279573958"
     },
     "user_tz": 240
    },
    "id": "zsDPUmQuO2Is"
   },
   "outputs": [],
   "source": [
    "# Define the Keras model\n",
    "model = Sequential()\n",
    "model.add(Embedding(num_distinct_words, embedding_output_dims, input_length=max_sequence_length))\n",
    "model.add(LSTM(10))\n",
    "model.add(Dense(1, activation='sigmoid'))"
   ]
  },
  {
   "cell_type": "code",
   "execution_count": 12,
   "metadata": {
    "executionInfo": {
     "elapsed": 4,
     "status": "ok",
     "timestamp": 1680906501980,
     "user": {
      "displayName": "Benjamin Collins",
      "userId": "03123555785279573958"
     },
     "user_tz": 240
    },
    "id": "sphyD-dYQDU4"
   },
   "outputs": [],
   "source": [
    "# Compile the model\n",
    "model.compile(optimizer=optimizer, loss=loss_function, metrics=additional_metrics)"
   ]
  },
  {
   "cell_type": "code",
   "execution_count": 13,
   "metadata": {
    "colab": {
     "base_uri": "https://localhost:8080/"
    },
    "executionInfo": {
     "elapsed": 149,
     "status": "ok",
     "timestamp": 1680906502126,
     "user": {
      "displayName": "Benjamin Collins",
      "userId": "03123555785279573958"
     },
     "user_tz": 240
    },
    "id": "phSrwBYQQGb3",
    "outputId": "fa53a1f9-068f-479e-dd25-5a13601c478c"
   },
   "outputs": [
    {
     "name": "stdout",
     "output_type": "stream",
     "text": [
      "Model: \"sequential\"\n",
      "_________________________________________________________________\n",
      " Layer (type)                Output Shape              Param #   \n",
      "=================================================================\n",
      " embedding (Embedding)       (None, 166, 100)          1500000   \n",
      "                                                                 \n",
      " lstm (LSTM)                 (None, 10)                4440      \n",
      "                                                                 \n",
      " dense (Dense)               (None, 1)                 11        \n",
      "                                                                 \n",
      "=================================================================\n",
      "Total params: 1,504,451\n",
      "Trainable params: 1,504,451\n",
      "Non-trainable params: 0\n",
      "_________________________________________________________________\n"
     ]
    }
   ],
   "source": [
    "# Give a summary\n",
    "model.summary()"
   ]
  },
  {
   "cell_type": "code",
   "execution_count": 14,
   "metadata": {
    "colab": {
     "base_uri": "https://localhost:8080/"
    },
    "executionInfo": {
     "elapsed": 93596,
     "status": "ok",
     "timestamp": 1680906595717,
     "user": {
      "displayName": "Benjamin Collins",
      "userId": "03123555785279573958"
     },
     "user_tz": 240
    },
    "id": "hxn2XPsCQJtJ",
    "outputId": "62f201df-8705-4473-c65a-5d1548dacaa8"
   },
   "outputs": [
    {
     "name": "stdout",
     "output_type": "stream",
     "text": [
      "Train on 18316 samples, validate on 4579 samples\n",
      "Epoch 1/5\n",
      "18316/18316 [==============================] - ETA: 0s - loss: 0.5501 - accuracy: 0.7349"
     ]
    },
    {
     "name": "stderr",
     "output_type": "stream",
     "text": [
      "/usr/local/lib/python3.9/dist-packages/keras/engine/training_v1.py:2335: UserWarning: `Model.state_updates` will be removed in a future version. This property should not be used in TensorFlow 2.0, as `updates` are applied automatically.\n",
      "  updates = self.state_updates\n"
     ]
    },
    {
     "name": "stdout",
     "output_type": "stream",
     "text": [
      "\b\b\b\b\b\b\b\b\b\b\b\b\b\b\b\b\b\b\b\b\b\b\b\b\b\b\b\b\b\b\b\b\b\b\b\b\b\b\b\b\b\b\b\b\b\b\b\b\b\b\b\b\b\b\b\b\b\b\b\b\b\b\b\b\b\b\b\b\b\b\b\b\b\b\b\b\b\b\b\b\b\b\b\b\b\b\b\b\r",
      "18316/18316 [==============================] - 20s 1ms/sample - loss: 0.5501 - accuracy: 0.7349 - val_loss: 0.4264 - val_accuracy: 0.8227\n",
      "Epoch 2/5\n",
      "18316/18316 [==============================] - 18s 963us/sample - loss: 0.3172 - accuracy: 0.8779 - val_loss: 0.3854 - val_accuracy: 0.8314\n",
      "Epoch 3/5\n",
      "18316/18316 [==============================] - 17s 953us/sample - loss: 0.2262 - accuracy: 0.9194 - val_loss: 0.3978 - val_accuracy: 0.8347\n",
      "Epoch 4/5\n",
      "18316/18316 [==============================] - 19s 1ms/sample - loss: 0.1690 - accuracy: 0.9432 - val_loss: 0.4377 - val_accuracy: 0.8294\n",
      "Epoch 5/5\n",
      "18316/18316 [==============================] - 19s 1ms/sample - loss: 0.1298 - accuracy: 0.9587 - val_loss: 0.4813 - val_accuracy: 0.8251\n"
     ]
    }
   ],
   "source": [
    "# Train the model\n",
    "history = model.fit(padded_inputs, y_train, batch_size=batch_size, epochs=number_of_epochs, verbose=verbosity_mode, validation_split=validation_split)"
   ]
  },
  {
   "cell_type": "code",
   "execution_count": 15,
   "metadata": {
    "colab": {
     "base_uri": "https://localhost:8080/"
    },
    "executionInfo": {
     "elapsed": 2103,
     "status": "ok",
     "timestamp": 1680906597818,
     "user": {
      "displayName": "Benjamin Collins",
      "userId": "03123555785279573958"
     },
     "user_tz": 240
    },
    "id": "BHs6NZSkQNaZ",
    "outputId": "04e45d4f-4808-44da-bf25-8f732575e549"
   },
   "outputs": [
    {
     "name": "stdout",
     "output_type": "stream",
     "text": [
      "Test results - Loss: 0.443 - Accuracy: 83.84%\n"
     ]
    }
   ],
   "source": [
    "# Test the model after training\n",
    "test_results = model.evaluate(padded_inputs_test, y_test, verbose=False)\n",
    "print(f'Test results - Loss: {round(test_results[0], 3)} - Accuracy: {round(100*test_results[1], 4)}%')"
   ]
  }
 ],
 "metadata": {
  "colab": {
   "authorship_tag": "ABX9TyPzOiO4EgrrwfphppQ+KD+m",
   "provenance": []
  },
  "kernelspec": {
   "display_name": "Python 3 (ipykernel)",
   "language": "python",
   "name": "python3"
  },
  "language_info": {
   "codemirror_mode": {
    "name": "ipython",
    "version": 3
   },
   "file_extension": ".py",
   "mimetype": "text/x-python",
   "name": "python",
   "nbconvert_exporter": "python",
   "pygments_lexer": "ipython3",
   "version": "3.9.15"
  }
 },
 "nbformat": 4,
 "nbformat_minor": 1
}
