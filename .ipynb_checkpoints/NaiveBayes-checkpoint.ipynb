{
 "cells": [
  {
   "cell_type": "code",
   "execution_count": 4,
   "id": "7c7ab158",
   "metadata": {},
   "outputs": [
    {
     "name": "stdout",
     "output_type": "stream",
     "text": [
      "The autoreload extension is already loaded. To reload it, use:\n",
      "  %reload_ext autoreload\n"
     ]
    }
   ],
   "source": [
    "%load_ext autoreload\n",
    "%autoreload 2\n",
    "\n",
    "import re\n",
    "\n",
    "import pandas as pd\n",
    "import numpy as np\n",
    "import matplotlib.pyplot as plt\n",
    "import seaborn as sns\n",
    "\n",
    "from sklearn.svm import LinearSVC\n",
    "from sklearn.linear_model import LogisticRegression\n",
    "from sklearn.naive_bayes import MultinomialNB\n",
    "from sklearn.feature_extraction.text import CountVectorizer\n",
    "from sklearn.model_selection import train_test_split\n",
    "\n",
    "from sklearn.metrics import accuracy_score, roc_auc_score, f1_score"
   ]
  },
  {
   "cell_type": "code",
   "execution_count": 6,
   "id": "4b09d23c",
   "metadata": {},
   "outputs": [
    {
     "name": "stdout",
     "output_type": "stream",
     "text": [
      "****** Running Models *******\n",
      "Using gram = 1 and stopwords:\n",
      "f1_score: 0.7737556561085973\n",
      "accuracy_score: 0.8099581908019764\n",
      "roc_auc_score: 0.8911401414677278\n",
      "________________________\n",
      "Using gram = 2 and stopwords:\n",
      "f1_score: 0.8181818181818182\n",
      "accuracy_score: 0.8441657164576207\n",
      "roc_auc_score: 0.917146625405246\n",
      "________________________\n",
      "Using gram = 3 and stopwords:\n",
      "f1_score: 0.8238623993032878\n",
      "accuracy_score: 0.8462561763587989\n",
      "roc_auc_score: 0.9201545829649278\n",
      "________________________\n",
      "Using gram = 1 and no stopwords:\n",
      "f1_score: 0.7570596145226355\n",
      "accuracy_score: 0.7939946788293425\n",
      "roc_auc_score: 0.8770803124078986\n",
      "________________________\n",
      "Using gram = 2 and no stopwords:\n",
      "f1_score: 0.7955341506129597\n",
      "accuracy_score: 0.822500950209046\n",
      "roc_auc_score: 0.903949160035367\n",
      "________________________\n",
      "Using gram = 3 and no stopwords:\n",
      "f1_score: 0.7965591397849463\n",
      "accuracy_score: 0.8202204484986697\n",
      "roc_auc_score: 0.9066747715885647\n",
      "________________________\n",
      "Best params based on f1 was {'stopwords': True, 'gram_size': 3} with a score of 0.8238623993032878\n"
     ]
    }
   ],
   "source": [
    "from naive_bayes import run_models\n",
    "\n",
    "# Read in the headline data\n",
    "headline_data = pd.read_csv(\"./data/cleaned_headlines.csv\")\n",
    "\n",
    "# Run the model on a small set of hyperparameters\n",
    "run_models(headline_data, gram=3)"
   ]
  },
  {
   "cell_type": "code",
   "execution_count": null,
   "id": "417d4877",
   "metadata": {},
   "outputs": [],
   "source": []
  }
 ],
 "metadata": {
  "kernelspec": {
   "display_name": "Python 3 (ipykernel)",
   "language": "python",
   "name": "python3"
  },
  "language_info": {
   "codemirror_mode": {
    "name": "ipython",
    "version": 3
   },
   "file_extension": ".py",
   "mimetype": "text/x-python",
   "name": "python",
   "nbconvert_exporter": "python",
   "pygments_lexer": "ipython3",
   "version": "3.9.15"
  }
 },
 "nbformat": 4,
 "nbformat_minor": 5
}
