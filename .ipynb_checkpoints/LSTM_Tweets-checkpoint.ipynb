{
 "cells": [
  {
   "cell_type": "code",
   "execution_count": 125,
   "metadata": {
    "colab": {
     "base_uri": "https://localhost:8080/"
    },
    "executionInfo": {
     "elapsed": 1232,
     "status": "ok",
     "timestamp": 1680907674267,
     "user": {
      "displayName": "Benjamin Collins",
      "userId": "03123555785279573958"
     },
     "user_tz": 240
    },
    "id": "Svrn-r6mSz-_",
    "outputId": "f66c7987-1b70-4006-b9c4-d339f70eadc9"
   },
   "outputs": [
    {
     "name": "stdout",
     "output_type": "stream",
     "text": [
      "Drive already mounted at /content/drive; to attempt to forcibly remount, call drive.mount(\"/content/drive\", force_remount=True).\n"
     ]
    }
   ],
   "source": [
    "# Mount to your drive to access folders\n",
    "from google.colab import drive\n",
    "drive.mount('/content/drive')"
   ]
  },
  {
   "cell_type": "code",
   "execution_count": 126,
   "metadata": {
    "colab": {
     "base_uri": "https://localhost:8080/"
    },
    "executionInfo": {
     "elapsed": 3,
     "status": "ok",
     "timestamp": 1680907674267,
     "user": {
      "displayName": "Benjamin Collins",
      "userId": "03123555785279573958"
     },
     "user_tz": 240
    },
    "id": "eSXzx6lFS7Ha",
    "outputId": "04d67aac-e2a0-4cee-8c49-3f552517988f"
   },
   "outputs": [
    {
     "name": "stdout",
     "output_type": "stream",
     "text": [
      "['Project Proposal Brainstorm.gdoc', 'cleaned_headlines.csv', 'vectors.kv', 'vectors.kv.vectors.npy', 'Questions for Prof.gdoc', 'Notes For Progress Report.gdoc', 'BERT.ipynb', 'cleaned_tweets.csv', 'Notes for Presentation.gdoc', 'LSTM_Headlines.ipynb', 'LSTM_Tweets.ipynb']\n"
     ]
    }
   ],
   "source": [
    "# Add filepath to the project\n",
    "import os\n",
    "import sys\n",
    "\n",
    "GOOGLE_DRIVE_PATH_AFTER_MYDRIVE = '/content/drive/MyDrive/Junior Year/EECS 487/Group Project'\n",
    "GOOGLE_DRIVE_PATH = os.path.join('drive', 'My Drive', GOOGLE_DRIVE_PATH_AFTER_MYDRIVE)\n",
    "print(os.listdir(GOOGLE_DRIVE_PATH))\n",
    "os.chdir(GOOGLE_DRIVE_PATH)"
   ]
  },
  {
   "cell_type": "code",
   "execution_count": 127,
   "metadata": {
    "executionInfo": {
     "elapsed": 2,
     "status": "ok",
     "timestamp": 1680907674268,
     "user": {
      "displayName": "Benjamin Collins",
      "userId": "03123555785279573958"
     },
     "user_tz": 240
    },
    "id": "4adBCJLAI9Za"
   },
   "outputs": [],
   "source": [
    "# Import tensorflow and other important packages\n",
    "import tensorflow as tf\n",
    "\n",
    "from tensorflow.keras.datasets import imdb\n",
    "from tensorflow.keras.layers import Embedding, Dense, LSTM\n",
    "from tensorflow.keras.losses import BinaryCrossentropy\n",
    "from tensorflow.keras.models import Sequential\n",
    "from tensorflow.keras.optimizers.legacy import Adam\n",
    "from tensorflow.keras.preprocessing.sequence import pad_sequences\n",
    "\n",
    "import pandas as pd\n",
    "import numpy as np\n",
    "from gensim.models import KeyedVectors\n",
    "from sklearn.model_selection import train_test_split"
   ]
  },
  {
   "cell_type": "code",
   "execution_count": 128,
   "metadata": {
    "executionInfo": {
     "elapsed": 314,
     "status": "ok",
     "timestamp": 1680907674580,
     "user": {
      "displayName": "Benjamin Collins",
      "userId": "03123555785279573958"
     },
     "user_tz": 240
    },
    "id": "XPyzbR4POP_b"
   },
   "outputs": [],
   "source": [
    "# Model configuration\n",
    "additional_metrics = ['accuracy']\n",
    "batch_size = 128\n",
    "embedding_output_dims = 500\n",
    "loss_function = BinaryCrossentropy()\n",
    "num_distinct_words = 10000\n",
    "number_of_epochs = 5\n",
    "optimizer = Adam()\n",
    "validation_split = 0.20\n",
    "verbosity_mode = 1"
   ]
  },
  {
   "cell_type": "code",
   "execution_count": 129,
   "metadata": {
    "executionInfo": {
     "elapsed": 9,
     "status": "ok",
     "timestamp": 1680907674581,
     "user": {
      "displayName": "Benjamin Collins",
      "userId": "03123555785279573958"
     },
     "user_tz": 240
    },
    "id": "rUjXdqPTOT-B"
   },
   "outputs": [],
   "source": [
    "# Disable eager execution\n",
    "tf.compat.v1.disable_eager_execution()"
   ]
  },
  {
   "cell_type": "code",
   "execution_count": 130,
   "metadata": {
    "colab": {
     "base_uri": "https://localhost:8080/",
     "height": 285
    },
    "executionInfo": {
     "elapsed": 9,
     "status": "ok",
     "timestamp": 1680907674581,
     "user": {
      "displayName": "Benjamin Collins",
      "userId": "03123555785279573958"
     },
     "user_tz": 240
    },
    "id": "y0jDDyeLSogd",
    "outputId": "3ff8b560-dbf0-4e9c-be76-ec7a35af387f"
   },
   "outputs": [
    {
     "data": {
      "text/html": [
       "\n",
       "  <div id=\"df-2464433a-d743-40f8-955c-3b45b7105fc8\">\n",
       "    <div class=\"colab-df-container\">\n",
       "      <div>\n",
       "<style scoped>\n",
       "    .dataframe tbody tr th:only-of-type {\n",
       "        vertical-align: middle;\n",
       "    }\n",
       "\n",
       "    .dataframe tbody tr th {\n",
       "        vertical-align: top;\n",
       "    }\n",
       "\n",
       "    .dataframe thead th {\n",
       "        text-align: right;\n",
       "    }\n",
       "</style>\n",
       "<table border=\"1\" class=\"dataframe\">\n",
       "  <thead>\n",
       "    <tr style=\"text-align: right;\">\n",
       "      <th></th>\n",
       "      <th>tweet</th>\n",
       "      <th>is_sarcastic</th>\n",
       "      <th>no_stopwords</th>\n",
       "      <th>tokenized</th>\n",
       "      <th>tokenized_no_stopwords</th>\n",
       "    </tr>\n",
       "  </thead>\n",
       "  <tbody>\n",
       "    <tr>\n",
       "      <th>0</th>\n",
       "      <td>i love working midnights tweet</td>\n",
       "      <td>1</td>\n",
       "      <td>love working midnights tweet</td>\n",
       "      <td>i love working midnights tweet</td>\n",
       "      <td>love working midnights tweet</td>\n",
       "    </tr>\n",
       "    <tr>\n",
       "      <th>1</th>\n",
       "      <td>i hate when i buy a bag of air and there's chi...</td>\n",
       "      <td>1</td>\n",
       "      <td>hate buy bag air there's chips ðÿ˜’ #not</td>\n",
       "      <td>i hate when i buy a bag of air and there 's ch...</td>\n",
       "      <td>hate buy bag air there 's chips ðÿ˜ ’ # not</td>\n",
       "    </tr>\n",
       "    <tr>\n",
       "      <th>2</th>\n",
       "      <td>my grandad always sounds so ill when i speak t...</td>\n",
       "      <td>0</td>\n",
       "      <td>grandad always sounds ill speak phone</td>\n",
       "      <td>my grandad always sounds so ill when i speak t...</td>\n",
       "      <td>grandad always sounds ill speak phone</td>\n",
       "    </tr>\n",
       "    <tr>\n",
       "      <th>3</th>\n",
       "      <td>i realize i'm annoying to everyone, so i won't...</td>\n",
       "      <td>0</td>\n",
       "      <td>realize i'm annoying everyone, keep spamming y...</td>\n",
       "      <td>i realize i 'm annoying to everyone , so i wo ...</td>\n",
       "      <td>realize i 'm annoying everyone , keep spamming...</td>\n",
       "    </tr>\n",
       "    <tr>\n",
       "      <th>4</th>\n",
       "      <td>i love when i find these dudes on vine!! #foll...</td>\n",
       "      <td>1</td>\n",
       "      <td>love find dudes vine!! #followme #giveaway #xb...</td>\n",
       "      <td>i love when i find these dudes on vine ! ! # f...</td>\n",
       "      <td>love find dudes vine ! ! # followme # giveaway...</td>\n",
       "    </tr>\n",
       "  </tbody>\n",
       "</table>\n",
       "</div>\n",
       "      <button class=\"colab-df-convert\" onclick=\"convertToInteractive('df-2464433a-d743-40f8-955c-3b45b7105fc8')\"\n",
       "              title=\"Convert this dataframe to an interactive table.\"\n",
       "              style=\"display:none;\">\n",
       "        \n",
       "  <svg xmlns=\"http://www.w3.org/2000/svg\" height=\"24px\"viewBox=\"0 0 24 24\"\n",
       "       width=\"24px\">\n",
       "    <path d=\"M0 0h24v24H0V0z\" fill=\"none\"/>\n",
       "    <path d=\"M18.56 5.44l.94 2.06.94-2.06 2.06-.94-2.06-.94-.94-2.06-.94 2.06-2.06.94zm-11 1L8.5 8.5l.94-2.06 2.06-.94-2.06-.94L8.5 2.5l-.94 2.06-2.06.94zm10 10l.94 2.06.94-2.06 2.06-.94-2.06-.94-.94-2.06-.94 2.06-2.06.94z\"/><path d=\"M17.41 7.96l-1.37-1.37c-.4-.4-.92-.59-1.43-.59-.52 0-1.04.2-1.43.59L10.3 9.45l-7.72 7.72c-.78.78-.78 2.05 0 2.83L4 21.41c.39.39.9.59 1.41.59.51 0 1.02-.2 1.41-.59l7.78-7.78 2.81-2.81c.8-.78.8-2.07 0-2.86zM5.41 20L4 18.59l7.72-7.72 1.47 1.35L5.41 20z\"/>\n",
       "  </svg>\n",
       "      </button>\n",
       "      \n",
       "  <style>\n",
       "    .colab-df-container {\n",
       "      display:flex;\n",
       "      flex-wrap:wrap;\n",
       "      gap: 12px;\n",
       "    }\n",
       "\n",
       "    .colab-df-convert {\n",
       "      background-color: #E8F0FE;\n",
       "      border: none;\n",
       "      border-radius: 50%;\n",
       "      cursor: pointer;\n",
       "      display: none;\n",
       "      fill: #1967D2;\n",
       "      height: 32px;\n",
       "      padding: 0 0 0 0;\n",
       "      width: 32px;\n",
       "    }\n",
       "\n",
       "    .colab-df-convert:hover {\n",
       "      background-color: #E2EBFA;\n",
       "      box-shadow: 0px 1px 2px rgba(60, 64, 67, 0.3), 0px 1px 3px 1px rgba(60, 64, 67, 0.15);\n",
       "      fill: #174EA6;\n",
       "    }\n",
       "\n",
       "    [theme=dark] .colab-df-convert {\n",
       "      background-color: #3B4455;\n",
       "      fill: #D2E3FC;\n",
       "    }\n",
       "\n",
       "    [theme=dark] .colab-df-convert:hover {\n",
       "      background-color: #434B5C;\n",
       "      box-shadow: 0px 1px 3px 1px rgba(0, 0, 0, 0.15);\n",
       "      filter: drop-shadow(0px 1px 2px rgba(0, 0, 0, 0.3));\n",
       "      fill: #FFFFFF;\n",
       "    }\n",
       "  </style>\n",
       "\n",
       "      <script>\n",
       "        const buttonEl =\n",
       "          document.querySelector('#df-2464433a-d743-40f8-955c-3b45b7105fc8 button.colab-df-convert');\n",
       "        buttonEl.style.display =\n",
       "          google.colab.kernel.accessAllowed ? 'block' : 'none';\n",
       "\n",
       "        async function convertToInteractive(key) {\n",
       "          const element = document.querySelector('#df-2464433a-d743-40f8-955c-3b45b7105fc8');\n",
       "          const dataTable =\n",
       "            await google.colab.kernel.invokeFunction('convertToInteractive',\n",
       "                                                     [key], {});\n",
       "          if (!dataTable) return;\n",
       "\n",
       "          const docLinkHtml = 'Like what you see? Visit the ' +\n",
       "            '<a target=\"_blank\" href=https://colab.research.google.com/notebooks/data_table.ipynb>data table notebook</a>'\n",
       "            + ' to learn more about interactive tables.';\n",
       "          element.innerHTML = '';\n",
       "          dataTable['output_type'] = 'display_data';\n",
       "          await google.colab.output.renderOutput(dataTable, element);\n",
       "          const docLink = document.createElement('div');\n",
       "          docLink.innerHTML = docLinkHtml;\n",
       "          element.appendChild(docLink);\n",
       "        }\n",
       "      </script>\n",
       "    </div>\n",
       "  </div>\n",
       "  "
      ],
      "text/plain": [
       "                                               tweet  is_sarcastic  \\\n",
       "0                    i love working midnights tweet              1   \n",
       "1  i hate when i buy a bag of air and there's chi...             1   \n",
       "2  my grandad always sounds so ill when i speak t...             0   \n",
       "3  i realize i'm annoying to everyone, so i won't...             0   \n",
       "4  i love when i find these dudes on vine!! #foll...             1   \n",
       "\n",
       "                                        no_stopwords  \\\n",
       "0                       love working midnights tweet   \n",
       "1           hate buy bag air there's chips ðÿ˜’ #not   \n",
       "2              grandad always sounds ill speak phone   \n",
       "3  realize i'm annoying everyone, keep spamming y...   \n",
       "4  love find dudes vine!! #followme #giveaway #xb...   \n",
       "\n",
       "                                           tokenized  \\\n",
       "0                     i love working midnights tweet   \n",
       "1  i hate when i buy a bag of air and there 's ch...   \n",
       "2  my grandad always sounds so ill when i speak t...   \n",
       "3  i realize i 'm annoying to everyone , so i wo ...   \n",
       "4  i love when i find these dudes on vine ! ! # f...   \n",
       "\n",
       "                              tokenized_no_stopwords  \n",
       "0                       love working midnights tweet  \n",
       "1        hate buy bag air there 's chips ðÿ˜ ’ # not  \n",
       "2              grandad always sounds ill speak phone  \n",
       "3  realize i 'm annoying everyone , keep spamming...  \n",
       "4  love find dudes vine ! ! # followme # giveaway...  "
      ]
     },
     "execution_count": 130,
     "metadata": {},
     "output_type": "execute_result"
    }
   ],
   "source": [
    "# Load in and check the data\n",
    "data = pd.read_csv(\"./cleaned_tweets.csv\", index_col=\"Unnamed: 0\")\n",
    "data.head()"
   ]
  },
  {
   "cell_type": "code",
   "execution_count": 131,
   "metadata": {
    "executionInfo": {
     "elapsed": 8,
     "status": "ok",
     "timestamp": 1680907674581,
     "user": {
      "displayName": "Benjamin Collins",
      "userId": "03123555785279573958"
     },
     "user_tz": 240
    },
    "id": "5ozgaNvZWXJl"
   },
   "outputs": [],
   "source": [
    "# For now we'll do tokenized with stopwords\n",
    "data[\"split_tokens\"] = [headline.split(\" \") for headline in data.tokenized]\n",
    "max_sequence_length = max([len(headline) for headline in data.split_tokens])"
   ]
  },
  {
   "cell_type": "code",
   "execution_count": 132,
   "metadata": {
    "colab": {
     "base_uri": "https://localhost:8080/"
    },
    "executionInfo": {
     "elapsed": 8,
     "status": "ok",
     "timestamp": 1680907674581,
     "user": {
      "displayName": "Benjamin Collins",
      "userId": "03123555785279573958"
     },
     "user_tz": 240
    },
    "id": "-0N3PPhvAW8F",
    "outputId": "ccc5d49f-dfa4-422c-9a7e-17ea0d526d97"
   },
   "outputs": [
    {
     "name": "stdout",
     "output_type": "stream",
     "text": [
      "[list([10, 116, 777, 0, 0])\n",
      " list([10, 781, 51, 10, 815, 3, 3116, 4, 942, 2, 47, 3576, 0, 8, 9, 0, 0, 0, 21])\n",
      " list([58, 0, 207, 931, 35, 1812, 51, 10, 1125, 5, 87, 20, 1, 1696]) ...\n",
      " list([123, 66, 3, 610, 1125, 5, 22, 35, 73, 12, 22, 0, 915, 5, 867, 8, 126, 516, 2, 1629, 5, 9, 0, 10, 116, 9, 51, 12, 568, 0])\n",
      " list([256, 0, 12, 159, 0, 4973, 0, 10, 78, 0, 37, 5, 987, 15, 225, 0])\n",
      " list([115, 93, 5, 377, 1, 248, 0, 0, 0, 0, 0])]\n"
     ]
    }
   ],
   "source": [
    "# Load up the numeric word encoder\n",
    "word_index = imdb.get_word_index()\n",
    "\n",
    "# Compute embeddings\n",
    "X = []\n",
    "for headline in data.split_tokens:\n",
    "  word_lst = []\n",
    "  for token in headline:\n",
    "    try:\n",
    "      temp = word_index[token]\n",
    "      word_lst.append(temp) if temp < num_distinct_words else word_lst.append(0)\n",
    "    except:\n",
    "      word_lst.append(0)\n",
    "  X.append(word_lst)\n",
    "X = np.array(X, dtype=object)\n",
    "print(X)\n",
    "\n",
    "# Extract the target variable\n",
    "y = data.is_sarcastic\n",
    "\n",
    "# Split the data\n",
    "X_train, X_test, y_train, y_test = train_test_split(X, y, train_size=0.8, random_state=487)\n",
    "\n",
    "# Pad all sequences\n",
    "padded_inputs = pad_sequences(X_train, maxlen=max_sequence_length, value = 0.0) # 0.0 because it corresponds with <PAD>\n",
    "padded_inputs_test = pad_sequences(X_test, maxlen=max_sequence_length, value = 0.0) # 0.0 because it corresponds with <PAD>"
   ]
  },
  {
   "cell_type": "code",
   "execution_count": 133,
   "metadata": {
    "colab": {
     "base_uri": "https://localhost:8080/"
    },
    "executionInfo": {
     "elapsed": 7,
     "status": "ok",
     "timestamp": 1680907674582,
     "user": {
      "displayName": "Benjamin Collins",
      "userId": "03123555785279573958"
     },
     "user_tz": 240
    },
    "id": "DA63bH6zi1t2",
    "outputId": "52384528-b8da-45c8-e7ab-b8fc34a2eba9"
   },
   "outputs": [
    {
     "data": {
      "text/plain": [
       "array([[   0,    0,    0, ...,  147,    0,    0],\n",
       "       [   0,    0,    0, ...,  447,    0,    0],\n",
       "       [   0,    0,    0, ...,    0,    0,    0],\n",
       "       ...,\n",
       "       [   0,    0,    0, ...,   32, 1188,    0],\n",
       "       [   0,    0,    0, ...,    0,    0,    0],\n",
       "       [   0,    0,    0, ...,    0,    0,   21]], dtype=int32)"
      ]
     },
     "execution_count": 133,
     "metadata": {},
     "output_type": "execute_result"
    }
   ],
   "source": [
    "# Check the paddings\n",
    "padded_inputs"
   ]
  },
  {
   "cell_type": "code",
   "execution_count": 134,
   "metadata": {
    "executionInfo": {
     "elapsed": 311,
     "status": "ok",
     "timestamp": 1680907674887,
     "user": {
      "displayName": "Benjamin Collins",
      "userId": "03123555785279573958"
     },
     "user_tz": 240
    },
    "id": "zsDPUmQuO2Is"
   },
   "outputs": [],
   "source": [
    "# Define the Keras model\n",
    "model = Sequential()\n",
    "model.add(Embedding(num_distinct_words, embedding_output_dims, input_length=max_sequence_length))\n",
    "model.add(LSTM(10))\n",
    "model.add(Dense(1, activation='sigmoid'))"
   ]
  },
  {
   "cell_type": "code",
   "execution_count": 135,
   "metadata": {
    "executionInfo": {
     "elapsed": 3,
     "status": "ok",
     "timestamp": 1680907674887,
     "user": {
      "displayName": "Benjamin Collins",
      "userId": "03123555785279573958"
     },
     "user_tz": 240
    },
    "id": "sphyD-dYQDU4"
   },
   "outputs": [],
   "source": [
    "# Compile the model\n",
    "model.compile(optimizer=optimizer, loss=loss_function, metrics=additional_metrics)"
   ]
  },
  {
   "cell_type": "code",
   "execution_count": 136,
   "metadata": {
    "colab": {
     "base_uri": "https://localhost:8080/"
    },
    "executionInfo": {
     "elapsed": 250,
     "status": "ok",
     "timestamp": 1680907675135,
     "user": {
      "displayName": "Benjamin Collins",
      "userId": "03123555785279573958"
     },
     "user_tz": 240
    },
    "id": "phSrwBYQQGb3",
    "outputId": "4ca912b0-fda9-491c-d1aa-628b1e61e4bd"
   },
   "outputs": [
    {
     "name": "stdout",
     "output_type": "stream",
     "text": [
      "Model: \"sequential_8\"\n",
      "_________________________________________________________________\n",
      " Layer (type)                Output Shape              Param #   \n",
      "=================================================================\n",
      " embedding_8 (Embedding)     (None, 61, 500)           5000000   \n",
      "                                                                 \n",
      " lstm_8 (LSTM)               (None, 10)                20440     \n",
      "                                                                 \n",
      " dense_8 (Dense)             (None, 1)                 11        \n",
      "                                                                 \n",
      "=================================================================\n",
      "Total params: 5,020,451\n",
      "Trainable params: 5,020,451\n",
      "Non-trainable params: 0\n",
      "_________________________________________________________________\n"
     ]
    }
   ],
   "source": [
    "# Give a summary\n",
    "model.summary()"
   ]
  },
  {
   "cell_type": "code",
   "execution_count": 137,
   "metadata": {
    "colab": {
     "base_uri": "https://localhost:8080/"
    },
    "executionInfo": {
     "elapsed": 10290,
     "status": "ok",
     "timestamp": 1680907685420,
     "user": {
      "displayName": "Benjamin Collins",
      "userId": "03123555785279573958"
     },
     "user_tz": 240
    },
    "id": "hxn2XPsCQJtJ",
    "outputId": "009b9e61-a49c-4b94-ea13-ff0d6628baae"
   },
   "outputs": [
    {
     "name": "stdout",
     "output_type": "stream",
     "text": [
      "Train on 1276 samples, validate on 319 samples\n",
      "Epoch 1/5\n",
      "1276/1276 [==============================] - ETA: 0s - loss: 0.6636 - accuracy: 0.6630"
     ]
    },
    {
     "name": "stderr",
     "output_type": "stream",
     "text": [
      "/usr/local/lib/python3.9/dist-packages/keras/engine/training_v1.py:2335: UserWarning: `Model.state_updates` will be removed in a future version. This property should not be used in TensorFlow 2.0, as `updates` are applied automatically.\n",
      "  updates = self.state_updates\n"
     ]
    },
    {
     "name": "stdout",
     "output_type": "stream",
     "text": [
      "\b\b\b\b\b\b\b\b\b\b\b\b\b\b\b\b\b\b\b\b\b\b\b\b\b\b\b\b\b\b\b\b\b\b\b\b\b\b\b\b\b\b\b\b\b\b\b\b\b\b\b\b\b\b\b\b\b\b\b\b\b\b\b\b\b\b\b\b\b\b\b\b\b\b\b\b\b\b\b\b\b\b\b\b\b\b\r",
      "1276/1276 [==============================] - 2s 2ms/sample - loss: 0.6636 - accuracy: 0.6630 - val_loss: 0.6158 - val_accuracy: 0.7116\n",
      "Epoch 2/5\n",
      "1276/1276 [==============================] - 1s 1ms/sample - loss: 0.5622 - accuracy: 0.7696 - val_loss: 0.5191 - val_accuracy: 0.8025\n",
      "Epoch 3/5\n",
      "1276/1276 [==============================] - 1s 1ms/sample - loss: 0.4362 - accuracy: 0.8746 - val_loss: 0.4123 - val_accuracy: 0.8683\n",
      "Epoch 4/5\n",
      "1276/1276 [==============================] - 1s 1ms/sample - loss: 0.3142 - accuracy: 0.9114 - val_loss: 0.3363 - val_accuracy: 0.8903\n",
      "Epoch 5/5\n",
      "1276/1276 [==============================] - 2s 1ms/sample - loss: 0.2366 - accuracy: 0.9295 - val_loss: 0.3084 - val_accuracy: 0.9028\n"
     ]
    }
   ],
   "source": [
    "# Train the model\n",
    "history = model.fit(padded_inputs, y_train, batch_size=batch_size, epochs=number_of_epochs, verbose=verbosity_mode, validation_split=validation_split)"
   ]
  },
  {
   "cell_type": "code",
   "execution_count": 138,
   "metadata": {
    "colab": {
     "base_uri": "https://localhost:8080/"
    },
    "executionInfo": {
     "elapsed": 257,
     "status": "ok",
     "timestamp": 1680907685666,
     "user": {
      "displayName": "Benjamin Collins",
      "userId": "03123555785279573958"
     },
     "user_tz": 240
    },
    "id": "BHs6NZSkQNaZ",
    "outputId": "93b8a996-7464-466e-b5b0-aeff80351561"
   },
   "outputs": [
    {
     "name": "stdout",
     "output_type": "stream",
     "text": [
      "Test results - Loss: 0.319 - Accuracy: 88.7218%\n"
     ]
    }
   ],
   "source": [
    "# Test the model after training\n",
    "test_results = model.evaluate(padded_inputs_test, y_test, verbose=False)\n",
    "print(f'Test results - Loss: {round(test_results[0], 3)} - Accuracy: {round(100*test_results[1], 4)}%')"
   ]
  }
 ],
 "metadata": {
  "colab": {
   "authorship_tag": "ABX9TyNOtdXl3vXUwlr63XsAOPDr",
   "provenance": []
  },
  "kernelspec": {
   "display_name": "Python 3 (ipykernel)",
   "language": "python",
   "name": "python3"
  },
  "language_info": {
   "codemirror_mode": {
    "name": "ipython",
    "version": 3
   },
   "file_extension": ".py",
   "mimetype": "text/x-python",
   "name": "python",
   "nbconvert_exporter": "python",
   "pygments_lexer": "ipython3",
   "version": "3.9.15"
  }
 },
 "nbformat": 4,
 "nbformat_minor": 1
}
