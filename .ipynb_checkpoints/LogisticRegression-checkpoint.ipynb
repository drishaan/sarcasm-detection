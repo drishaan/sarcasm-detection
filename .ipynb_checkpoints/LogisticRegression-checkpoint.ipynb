{
 "cells": [
  {
   "cell_type": "code",
   "execution_count": 1,
   "id": "7c7ab158",
   "metadata": {},
   "outputs": [],
   "source": [
    "%load_ext autoreload\n",
    "%autoreload 2\n",
    "\n",
    "import re\n",
    "\n",
    "import pandas as pd\n",
    "import numpy as np\n",
    "import matplotlib.pyplot as plt\n",
    "import seaborn as sns\n",
    "\n",
    "from sklearn.svm import LinearSVC\n",
    "from sklearn.linear_model import LogisticRegression\n",
    "from sklearn.naive_bayes import MultinomialNB\n",
    "from sklearn.feature_extraction.text import CountVectorizer\n",
    "from sklearn.model_selection import train_test_split\n",
    "\n",
    "from sklearn.metrics import accuracy_score, roc_auc_score, f1_score"
   ]
  },
  {
   "cell_type": "code",
   "execution_count": 2,
   "id": "4b09d23c",
   "metadata": {},
   "outputs": [
    {
     "name": "stdout",
     "output_type": "stream",
     "text": [
      "****** Running Models *******\n",
      "Using gram = 1 and stopwords:\n",
      "f1_score: 0.8417954378219279\n",
      "accuracy_score: 0.8497554157931516\n",
      "roc_auc_score: 0.9296802218621073\n",
      "________________________\n",
      "Using gram = 2 and stopwords:\n",
      "f1_score: 0.8578754578754578\n",
      "accuracy_score: 0.8644304682040531\n",
      "roc_auc_score: 0.937809229119206\n",
      "________________________\n",
      "Using gram = 1 and no stopwords:\n",
      "f1_score: 0.7880619569323764\n",
      "accuracy_score: 0.8039832285115304\n",
      "roc_auc_score: 0.887998387311429\n",
      "________________________\n",
      "Using gram = 2 and no stopwords:\n",
      "f1_score: 0.7916986933128363\n",
      "accuracy_score: 0.8106219426974144\n",
      "roc_auc_score: 0.8949041781159728\n",
      "________________________\n",
      "Best params based on f1 was {'stopwords': True, 'gram_size': 2} with a score of 0.8578754578754578\n"
     ]
    }
   ],
   "source": [
    "from logistic_regression import run_models\n",
    "\n",
    "run_models()"
   ]
  },
  {
   "cell_type": "code",
   "execution_count": null,
   "id": "837210dc",
   "metadata": {},
   "outputs": [],
   "source": []
  }
 ],
 "metadata": {
  "kernelspec": {
   "display_name": "Python 3 (ipykernel)",
   "language": "python",
   "name": "python3"
  },
  "language_info": {
   "codemirror_mode": {
    "name": "ipython",
    "version": 3
   },
   "file_extension": ".py",
   "mimetype": "text/x-python",
   "name": "python",
   "nbconvert_exporter": "python",
   "pygments_lexer": "ipython3",
   "version": "3.9.15"
  }
 },
 "nbformat": 4,
 "nbformat_minor": 5
}
