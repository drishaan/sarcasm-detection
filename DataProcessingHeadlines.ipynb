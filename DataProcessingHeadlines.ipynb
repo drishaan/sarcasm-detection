{
 "cells": [
  {
   "cell_type": "code",
   "execution_count": 59,
   "id": "5322ea30",
   "metadata": {
    "scrolled": true
   },
   "outputs": [],
   "source": [
    "# Imports\n",
    "import pandas as pd\n",
    "import json\n",
    "import matplotlib.pyplot as plt\n",
    "import seaborn as sns\n",
    "import nltk\n",
    "from nltk.corpus import stopwords\n",
    "from nltk import word_tokenize"
   ]
  },
  {
   "cell_type": "code",
   "execution_count": 60,
   "id": "6be3a5b5",
   "metadata": {},
   "outputs": [
    {
     "data": {
      "text/html": [
       "<div>\n",
       "<style scoped>\n",
       "    .dataframe tbody tr th:only-of-type {\n",
       "        vertical-align: middle;\n",
       "    }\n",
       "\n",
       "    .dataframe tbody tr th {\n",
       "        vertical-align: top;\n",
       "    }\n",
       "\n",
       "    .dataframe thead th {\n",
       "        text-align: right;\n",
       "    }\n",
       "</style>\n",
       "<table border=\"1\" class=\"dataframe\">\n",
       "  <thead>\n",
       "    <tr style=\"text-align: right;\">\n",
       "      <th></th>\n",
       "      <th>is_sarcastic</th>\n",
       "      <th>headline</th>\n",
       "      <th>article_link</th>\n",
       "    </tr>\n",
       "  </thead>\n",
       "  <tbody>\n",
       "    <tr>\n",
       "      <th>0</th>\n",
       "      <td>1</td>\n",
       "      <td>thirtysomething scientists unveil doomsday clo...</td>\n",
       "      <td>https://www.theonion.com/thirtysomething-scien...</td>\n",
       "    </tr>\n",
       "    <tr>\n",
       "      <th>1</th>\n",
       "      <td>0</td>\n",
       "      <td>dem rep. totally nails why congress is falling...</td>\n",
       "      <td>https://www.huffingtonpost.com/entry/donna-edw...</td>\n",
       "    </tr>\n",
       "    <tr>\n",
       "      <th>2</th>\n",
       "      <td>0</td>\n",
       "      <td>eat your veggies: 9 deliciously different recipes</td>\n",
       "      <td>https://www.huffingtonpost.com/entry/eat-your-...</td>\n",
       "    </tr>\n",
       "    <tr>\n",
       "      <th>3</th>\n",
       "      <td>1</td>\n",
       "      <td>inclement weather prevents liar from getting t...</td>\n",
       "      <td>https://local.theonion.com/inclement-weather-p...</td>\n",
       "    </tr>\n",
       "    <tr>\n",
       "      <th>4</th>\n",
       "      <td>1</td>\n",
       "      <td>mother comes pretty close to using word 'strea...</td>\n",
       "      <td>https://www.theonion.com/mother-comes-pretty-c...</td>\n",
       "    </tr>\n",
       "  </tbody>\n",
       "</table>\n",
       "</div>"
      ],
      "text/plain": [
       "   is_sarcastic                                           headline  \\\n",
       "0             1  thirtysomething scientists unveil doomsday clo...   \n",
       "1             0  dem rep. totally nails why congress is falling...   \n",
       "2             0  eat your veggies: 9 deliciously different recipes   \n",
       "3             1  inclement weather prevents liar from getting t...   \n",
       "4             1  mother comes pretty close to using word 'strea...   \n",
       "\n",
       "                                        article_link  \n",
       "0  https://www.theonion.com/thirtysomething-scien...  \n",
       "1  https://www.huffingtonpost.com/entry/donna-edw...  \n",
       "2  https://www.huffingtonpost.com/entry/eat-your-...  \n",
       "3  https://local.theonion.com/inclement-weather-p...  \n",
       "4  https://www.theonion.com/mother-comes-pretty-c...  "
      ]
     },
     "execution_count": 60,
     "metadata": {},
     "output_type": "execute_result"
    }
   ],
   "source": [
    "# Load the data\n",
    "headlines_df_1 = pd.read_json(\"data/headlines_1.json\", lines=True)\n",
    "headlines_df_1.head()"
   ]
  },
  {
   "cell_type": "code",
   "execution_count": 61,
   "id": "c3470a7d",
   "metadata": {},
   "outputs": [
    {
     "data": {
      "text/html": [
       "<div>\n",
       "<style scoped>\n",
       "    .dataframe tbody tr th:only-of-type {\n",
       "        vertical-align: middle;\n",
       "    }\n",
       "\n",
       "    .dataframe tbody tr th {\n",
       "        vertical-align: top;\n",
       "    }\n",
       "\n",
       "    .dataframe thead th {\n",
       "        text-align: right;\n",
       "    }\n",
       "</style>\n",
       "<table border=\"1\" class=\"dataframe\">\n",
       "  <thead>\n",
       "    <tr style=\"text-align: right;\">\n",
       "      <th></th>\n",
       "      <th>text</th>\n",
       "      <th>label</th>\n",
       "    </tr>\n",
       "  </thead>\n",
       "  <tbody>\n",
       "    <tr>\n",
       "      <th>0</th>\n",
       "      <td>Entire Facebook Staff Laughs As Man Tightens P...</td>\n",
       "      <td>1</td>\n",
       "    </tr>\n",
       "    <tr>\n",
       "      <th>1</th>\n",
       "      <td>Muslim Woman Denied Soda Can for Fear She Coul...</td>\n",
       "      <td>0</td>\n",
       "    </tr>\n",
       "    <tr>\n",
       "      <th>2</th>\n",
       "      <td>Bold Move: Hulu Has Announced That They’re Gon...</td>\n",
       "      <td>1</td>\n",
       "    </tr>\n",
       "    <tr>\n",
       "      <th>3</th>\n",
       "      <td>Despondent Jeff Bezos Realizes He’ll Have To W...</td>\n",
       "      <td>1</td>\n",
       "    </tr>\n",
       "    <tr>\n",
       "      <th>4</th>\n",
       "      <td>For men looking for great single women, online...</td>\n",
       "      <td>1</td>\n",
       "    </tr>\n",
       "  </tbody>\n",
       "</table>\n",
       "</div>"
      ],
      "text/plain": [
       "                                                text  label\n",
       "0  Entire Facebook Staff Laughs As Man Tightens P...      1\n",
       "1  Muslim Woman Denied Soda Can for Fear She Coul...      0\n",
       "2  Bold Move: Hulu Has Announced That They’re Gon...      1\n",
       "3  Despondent Jeff Bezos Realizes He’ll Have To W...      1\n",
       "4  For men looking for great single women, online...      1"
      ]
     },
     "execution_count": 61,
     "metadata": {},
     "output_type": "execute_result"
    }
   ],
   "source": [
    "headlines_df_2 = pd.read_csv(\"data/headlines_2.csv\")\n",
    "headlines_df_2.head()"
   ]
  },
  {
   "cell_type": "code",
   "execution_count": 62,
   "id": "4f750387",
   "metadata": {},
   "outputs": [
    {
     "data": {
      "text/plain": [
       "is_sarcastic    0\n",
       "headline        0\n",
       "article_link    0\n",
       "dtype: int64"
      ]
     },
     "execution_count": 62,
     "metadata": {},
     "output_type": "execute_result"
    }
   ],
   "source": [
    "# Check for NaN values\n",
    "headlines_df_1.isna().sum()"
   ]
  },
  {
   "cell_type": "code",
   "execution_count": 63,
   "id": "e2f3724a",
   "metadata": {},
   "outputs": [
    {
     "data": {
      "text/plain": [
       "headline        0\n",
       "is_sarcastic    0\n",
       "dtype: int64"
      ]
     },
     "execution_count": 63,
     "metadata": {},
     "output_type": "execute_result"
    }
   ],
   "source": [
    "headlines_df_2.rename(columns={'text': 'headline', 'label': 'is_sarcastic'}, inplace=True)\n",
    "headlines_df_2.isna().sum()"
   ]
  },
  {
   "cell_type": "code",
   "execution_count": 64,
   "id": "ddf6adce",
   "metadata": {},
   "outputs": [
    {
     "data": {
      "text/plain": [
       "0    14985\n",
       "1    13634\n",
       "Name: is_sarcastic, dtype: int64"
      ]
     },
     "execution_count": 64,
     "metadata": {},
     "output_type": "execute_result"
    }
   ],
   "source": [
    "# Explore distribution\n",
    "headlines_df_1['is_sarcastic'].value_counts()"
   ]
  },
  {
   "cell_type": "code",
   "execution_count": 65,
   "id": "322427f6",
   "metadata": {
    "scrolled": true
   },
   "outputs": [
    {
     "data": {
      "text/plain": [
       "0    15000\n",
       "1     9000\n",
       "Name: is_sarcastic, dtype: int64"
      ]
     },
     "execution_count": 65,
     "metadata": {},
     "output_type": "execute_result"
    }
   ],
   "source": [
    "headlines_df_2['is_sarcastic'].value_counts()"
   ]
  },
  {
   "cell_type": "code",
   "execution_count": 66,
   "id": "e0f9e4dd",
   "metadata": {},
   "outputs": [
    {
     "data": {
      "text/html": [
       "<div>\n",
       "<style scoped>\n",
       "    .dataframe tbody tr th:only-of-type {\n",
       "        vertical-align: middle;\n",
       "    }\n",
       "\n",
       "    .dataframe tbody tr th {\n",
       "        vertical-align: top;\n",
       "    }\n",
       "\n",
       "    .dataframe thead th {\n",
       "        text-align: right;\n",
       "    }\n",
       "</style>\n",
       "<table border=\"1\" class=\"dataframe\">\n",
       "  <thead>\n",
       "    <tr style=\"text-align: right;\">\n",
       "      <th></th>\n",
       "      <th>is_sarcastic</th>\n",
       "      <th>headline</th>\n",
       "    </tr>\n",
       "  </thead>\n",
       "  <tbody>\n",
       "    <tr>\n",
       "      <th>3862</th>\n",
       "      <td>0</td>\n",
       "      <td>11 odd household objects that will intrigue yo...</td>\n",
       "    </tr>\n",
       "    <tr>\n",
       "      <th>39042</th>\n",
       "      <td>1</td>\n",
       "      <td>news: end of a career: regis philbin has annou...</td>\n",
       "    </tr>\n",
       "    <tr>\n",
       "      <th>50608</th>\n",
       "      <td>0</td>\n",
       "      <td>north korea's kim jong-un gets 100% of 'yes' v...</td>\n",
       "    </tr>\n",
       "    <tr>\n",
       "      <th>26162</th>\n",
       "      <td>1</td>\n",
       "      <td>report: retailers pull in $5 billion annually ...</td>\n",
       "    </tr>\n",
       "    <tr>\n",
       "      <th>34910</th>\n",
       "      <td>0</td>\n",
       "      <td>parkour mishap leaves tall, thin man stuck in ...</td>\n",
       "    </tr>\n",
       "    <tr>\n",
       "      <th>39123</th>\n",
       "      <td>1</td>\n",
       "      <td>affable anti-semite thinks the jews are doing ...</td>\n",
       "    </tr>\n",
       "    <tr>\n",
       "      <th>9101</th>\n",
       "      <td>0</td>\n",
       "      <td>family assistants are the new nannies — and he...</td>\n",
       "    </tr>\n",
       "    <tr>\n",
       "      <th>39988</th>\n",
       "      <td>0</td>\n",
       "      <td>lifelock offers to protect you from the equifa...</td>\n",
       "    </tr>\n",
       "    <tr>\n",
       "      <th>50324</th>\n",
       "      <td>1</td>\n",
       "      <td>evangelical church strips away all the frills ...</td>\n",
       "    </tr>\n",
       "    <tr>\n",
       "      <th>38144</th>\n",
       "      <td>0</td>\n",
       "      <td>minor-league team apparently doesn't know what...</td>\n",
       "    </tr>\n",
       "  </tbody>\n",
       "</table>\n",
       "</div>"
      ],
      "text/plain": [
       "       is_sarcastic                                           headline\n",
       "3862              0  11 odd household objects that will intrigue yo...\n",
       "39042             1  news: end of a career: regis philbin has annou...\n",
       "50608             0  north korea's kim jong-un gets 100% of 'yes' v...\n",
       "26162             1  report: retailers pull in $5 billion annually ...\n",
       "34910             0  parkour mishap leaves tall, thin man stuck in ...\n",
       "39123             1  affable anti-semite thinks the jews are doing ...\n",
       "9101              0  family assistants are the new nannies — and he...\n",
       "39988             0  lifelock offers to protect you from the equifa...\n",
       "50324             1  evangelical church strips away all the frills ...\n",
       "38144             0  minor-league team apparently doesn't know what..."
      ]
     },
     "execution_count": 66,
     "metadata": {},
     "output_type": "execute_result"
    }
   ],
   "source": [
    "# Merge in the data\n",
    "headlines_df_2['headline'] = headlines_df_2['headline'].str.lower()\n",
    "headlines_df_1.drop('article_link', axis=1, inplace=True)\n",
    "first_column = headlines_df_2.pop('is_sarcastic')\n",
    "headlines_df_2.insert(0, 'is_sarcastic', first_column)\n",
    "headlines_df = pd.concat([headlines_df_1, headlines_df_2], ignore_index=True, axis=0)\n",
    "headlines_df.sample(n = 10)"
   ]
  },
  {
   "cell_type": "code",
   "execution_count": 67,
   "id": "98d8f9b5",
   "metadata": {},
   "outputs": [
    {
     "data": {
      "text/plain": [
       "(52619, 2)"
      ]
     },
     "execution_count": 67,
     "metadata": {},
     "output_type": "execute_result"
    }
   ],
   "source": [
    "headlines_df.shape"
   ]
  },
  {
   "cell_type": "code",
   "execution_count": 76,
   "id": "1cae41b3",
   "metadata": {},
   "outputs": [
    {
     "data": {
      "text/plain": [
       "0    29985\n",
       "1    22634\n",
       "Name: is_sarcastic, dtype: int64"
      ]
     },
     "execution_count": 76,
     "metadata": {},
     "output_type": "execute_result"
    }
   ],
   "source": [
    "headlines_df['is_sarcastic'].value_counts()"
   ]
  },
  {
   "cell_type": "code",
   "execution_count": 68,
   "id": "d9a927b8",
   "metadata": {
    "scrolled": true
   },
   "outputs": [
    {
     "data": {
      "text/plain": [
       "<Axes: xlabel='is_sarcastic', ylabel='count'>"
      ]
     },
     "execution_count": 68,
     "metadata": {},
     "output_type": "execute_result"
    },
    {
     "data": {
      "image/png": "[encoded data removed]",
      "text/plain": [
       "<Figure size 640x480 with 1 Axes>"
      ]
     },
     "metadata": {},
     "output_type": "display_data"
    }
   ],
   "source": [
    "sns.countplot(x='is_sarcastic', data=headlines_df)"
   ]
  },
  {
   "cell_type": "code",
   "execution_count": 69,
   "id": "efe49d7a",
   "metadata": {},
   "outputs": [
    {
     "name": "stdout",
     "output_type": "stream",
     "text": [
      "man       1756\n",
      "says      1185\n",
      "new       1157\n",
      "trump     1084\n",
      "police     858\n",
      "woman      809\n",
      "people     562\n",
      "donald     518\n",
      "school     488\n",
      "sex        437\n",
      "dtype: int64\n"
     ]
    }
   ],
   "source": [
    "# Most common words in non-sarcastic headlines\n",
    "stop = set(stopwords.words('english'))\n",
    "common_words_ns = ' '.join(headlines_df[headlines_df.is_sarcastic == 0].headline).split()\n",
    "common_words_ns = [word for word in common_words_ns if word not in stop]\n",
    "common_words_ns = pd.Series(common_words_ns)\n",
    "print(common_words_ns.value_counts()[:10])"
   ]
  },
  {
   "cell_type": "code",
   "execution_count": 70,
   "id": "95712f1a",
   "metadata": {},
   "outputs": [
    {
     "name": "stdout",
     "output_type": "stream",
     "text": [
      "man        1727\n",
      "new        1548\n",
      "trump       748\n",
      "report:     620\n",
      "area        575\n",
      "woman       569\n",
      "one         514\n",
      "get         461\n",
      "time        457\n",
      "like        444\n",
      "dtype: int64\n"
     ]
    }
   ],
   "source": [
    "# Most common words in sarcastic headlines\n",
    "common_words_s = ' '.join(headlines_df[headlines_df.is_sarcastic == 1].headline).split()\n",
    "common_words_s = [word for word in common_words_s if word not in stop]\n",
    "common_words_s = pd.Series(common_words_s)\n",
    "print(common_words_s.value_counts()[:10])"
   ]
  },
  {
   "cell_type": "code",
   "execution_count": 77,
   "id": "11332c33",
   "metadata": {},
   "outputs": [
    {
     "data": {
      "text/html": [
       "<div>\n",
       "<style scoped>\n",
       "    .dataframe tbody tr th:only-of-type {\n",
       "        vertical-align: middle;\n",
       "    }\n",
       "\n",
       "    .dataframe tbody tr th {\n",
       "        vertical-align: top;\n",
       "    }\n",
       "\n",
       "    .dataframe thead th {\n",
       "        text-align: right;\n",
       "    }\n",
       "</style>\n",
       "<table border=\"1\" class=\"dataframe\">\n",
       "  <thead>\n",
       "    <tr style=\"text-align: right;\">\n",
       "      <th></th>\n",
       "      <th>frequency_ns</th>\n",
       "      <th>frequency_s</th>\n",
       "      <th>difference</th>\n",
       "    </tr>\n",
       "  </thead>\n",
       "  <tbody>\n",
       "    <tr>\n",
       "      <th>says</th>\n",
       "      <td>1185.0</td>\n",
       "      <td>244.0</td>\n",
       "      <td>941.0</td>\n",
       "    </tr>\n",
       "    <tr>\n",
       "      <th>police</th>\n",
       "      <td>858.0</td>\n",
       "      <td>128.0</td>\n",
       "      <td>730.0</td>\n",
       "    </tr>\n",
       "    <tr>\n",
       "      <th>report:</th>\n",
       "      <td>47.0</td>\n",
       "      <td>620.0</td>\n",
       "      <td>573.0</td>\n",
       "    </tr>\n",
       "    <tr>\n",
       "      <th>area</th>\n",
       "      <td>28.0</td>\n",
       "      <td>575.0</td>\n",
       "      <td>547.0</td>\n",
       "    </tr>\n",
       "    <tr>\n",
       "      <th>life:</th>\n",
       "      <td>5.0</td>\n",
       "      <td>430.0</td>\n",
       "      <td>425.0</td>\n",
       "    </tr>\n",
       "  </tbody>\n",
       "</table>\n",
       "</div>"
      ],
      "text/plain": [
       "         frequency_ns  frequency_s  difference\n",
       "says           1185.0        244.0       941.0\n",
       "police          858.0        128.0       730.0\n",
       "report:          47.0        620.0       573.0\n",
       "area             28.0        575.0       547.0\n",
       "life:             5.0        430.0       425.0"
      ]
     },
     "execution_count": 77,
     "metadata": {},
     "output_type": "execute_result"
    }
   ],
   "source": [
    "common_words_ns_df = common_words_ns.value_counts().to_frame(name=\"frequency_ns\")\n",
    "common_words_s_df = common_words_s.value_counts().to_frame(name=\"frequency_s\")\n",
    "merged_freq = pd.merge(common_words_ns_df, common_words_s_df, left_index=True, right_index=True, how=\"outer\")\n",
    "merged_freq['frequency_s'] = merged_freq['frequency_s'].fillna(0)\n",
    "merged_freq['frequency_ns'] = merged_freq['frequency_ns'].fillna(0)\n",
    "merged_freq[\"difference\"] = abs(merged_freq[\"frequency_ns\"] - merged_freq[\"frequency_s\"])\n",
    "merged_freq = merged_freq.sort_values(['difference'], ascending=[False])\n",
    "merged_freq.head()"
   ]
  },
  {
   "cell_type": "code",
   "execution_count": 72,
   "id": "34692bf4",
   "metadata": {},
   "outputs": [],
   "source": [
    "def remove_stopwords(headline):\n",
    "    headline_list = headline.split()\n",
    "    return ' '.join([word for word in headline_list if word not in stop])"
   ]
  },
  {
   "cell_type": "code",
   "execution_count": 73,
   "id": "d39835bf",
   "metadata": {},
   "outputs": [],
   "source": [
    "def tokenize(headline):\n",
    "    tokenized = word_tokenize(headline)\n",
    "    return ' '.join([word for word in tokenized])"
   ]
  },
  {
   "cell_type": "code",
   "execution_count": 74,
   "id": "9ad94f14",
   "metadata": {},
   "outputs": [
    {
     "data": {
      "text/html": [
       "<div>\n",
       "<style scoped>\n",
       "    .dataframe tbody tr th:only-of-type {\n",
       "        vertical-align: middle;\n",
       "    }\n",
       "\n",
       "    .dataframe tbody tr th {\n",
       "        vertical-align: top;\n",
       "    }\n",
       "\n",
       "    .dataframe thead th {\n",
       "        text-align: right;\n",
       "    }\n",
       "</style>\n",
       "<table border=\"1\" class=\"dataframe\">\n",
       "  <thead>\n",
       "    <tr style=\"text-align: right;\">\n",
       "      <th></th>\n",
       "      <th>is_sarcastic</th>\n",
       "      <th>headline</th>\n",
       "      <th>no_stopwords</th>\n",
       "      <th>tokenized</th>\n",
       "      <th>tokenized_no_stopwords</th>\n",
       "    </tr>\n",
       "  </thead>\n",
       "  <tbody>\n",
       "    <tr>\n",
       "      <th>0</th>\n",
       "      <td>1</td>\n",
       "      <td>thirtysomething scientists unveil doomsday clo...</td>\n",
       "      <td>thirtysomething scientists unveil doomsday clo...</td>\n",
       "      <td>thirtysomething scientists unveil doomsday clo...</td>\n",
       "      <td>thirtysomething scientists unveil doomsday clo...</td>\n",
       "    </tr>\n",
       "    <tr>\n",
       "      <th>1</th>\n",
       "      <td>0</td>\n",
       "      <td>dem rep. totally nails why congress is falling...</td>\n",
       "      <td>dem rep. totally nails congress falling short ...</td>\n",
       "      <td>dem rep. totally nails why congress is falling...</td>\n",
       "      <td>dem rep. totally nails congress falling short ...</td>\n",
       "    </tr>\n",
       "    <tr>\n",
       "      <th>2</th>\n",
       "      <td>0</td>\n",
       "      <td>eat your veggies: 9 deliciously different recipes</td>\n",
       "      <td>eat veggies: 9 deliciously different recipes</td>\n",
       "      <td>eat your veggies : 9 deliciously different rec...</td>\n",
       "      <td>eat veggies : 9 deliciously different recipes</td>\n",
       "    </tr>\n",
       "    <tr>\n",
       "      <th>3</th>\n",
       "      <td>1</td>\n",
       "      <td>inclement weather prevents liar from getting t...</td>\n",
       "      <td>inclement weather prevents liar getting work</td>\n",
       "      <td>inclement weather prevents liar from getting t...</td>\n",
       "      <td>inclement weather prevents liar getting work</td>\n",
       "    </tr>\n",
       "    <tr>\n",
       "      <th>4</th>\n",
       "      <td>1</td>\n",
       "      <td>mother comes pretty close to using word 'strea...</td>\n",
       "      <td>mother comes pretty close using word 'streamin...</td>\n",
       "      <td>mother comes pretty close to using word 'strea...</td>\n",
       "      <td>mother comes pretty close using word 'streamin...</td>\n",
       "    </tr>\n",
       "  </tbody>\n",
       "</table>\n",
       "</div>"
      ],
      "text/plain": [
       "   is_sarcastic                                           headline  \\\n",
       "0             1  thirtysomething scientists unveil doomsday clo...   \n",
       "1             0  dem rep. totally nails why congress is falling...   \n",
       "2             0  eat your veggies: 9 deliciously different recipes   \n",
       "3             1  inclement weather prevents liar from getting t...   \n",
       "4             1  mother comes pretty close to using word 'strea...   \n",
       "\n",
       "                                        no_stopwords  \\\n",
       "0  thirtysomething scientists unveil doomsday clo...   \n",
       "1  dem rep. totally nails congress falling short ...   \n",
       "2       eat veggies: 9 deliciously different recipes   \n",
       "3       inclement weather prevents liar getting work   \n",
       "4  mother comes pretty close using word 'streamin...   \n",
       "\n",
       "                                           tokenized  \\\n",
       "0  thirtysomething scientists unveil doomsday clo...   \n",
       "1  dem rep. totally nails why congress is falling...   \n",
       "2  eat your veggies : 9 deliciously different rec...   \n",
       "3  inclement weather prevents liar from getting t...   \n",
       "4  mother comes pretty close to using word 'strea...   \n",
       "\n",
       "                              tokenized_no_stopwords  \n",
       "0  thirtysomething scientists unveil doomsday clo...  \n",
       "1  dem rep. totally nails congress falling short ...  \n",
       "2      eat veggies : 9 deliciously different recipes  \n",
       "3       inclement weather prevents liar getting work  \n",
       "4  mother comes pretty close using word 'streamin...  "
      ]
     },
     "execution_count": 74,
     "metadata": {},
     "output_type": "execute_result"
    }
   ],
   "source": [
    "# Create columns with processed version of headlines\n",
    "cleaned_headlines_df = headlines_df.copy()\n",
    "cleaned_headlines_df['no_stopwords'] = cleaned_headlines_df.headline.apply(remove_stopwords)\n",
    "cleaned_headlines_df['tokenized'] = cleaned_headlines_df.headline.apply(tokenize)\n",
    "cleaned_headlines_df['tokenized_no_stopwords'] = cleaned_headlines_df.no_stopwords.apply(tokenize)\n",
    "cleaned_headlines_df.head()"
   ]
  },
  {
   "cell_type": "code",
   "execution_count": 75,
   "id": "012ace7f",
   "metadata": {},
   "outputs": [],
   "source": [
    "# Save cleaned data\n",
    "cleaned_headlines_df.to_csv(\"data/cleaned_headlines.csv\")"
   ]
  },
  {
   "cell_type": "code",
   "execution_count": null,
   "id": "7167f313",
   "metadata": {},
   "outputs": [],
   "source": []
  }
 ],
 "metadata": {
  "kernelspec": {
   "display_name": "Python 3 (ipykernel)",
   "language": "python",
   "name": "python3"
  },
  "language_info": {
   "codemirror_mode": {
    "name": "ipython",
    "version": 3
   },
   "file_extension": ".py",
   "mimetype": "text/x-python",
   "name": "python",
   "nbconvert_exporter": "python",
   "pygments_lexer": "ipython3",
   "version": "3.9.15"
  }
 },
 "nbformat": 4,
 "nbformat_minor": 5
}
