{
 "cells": [
  {
   "cell_type": "code",
   "execution_count": 57,
   "id": "5322ea30",
   "metadata": {
    "scrolled": true
   },
   "outputs": [],
   "source": [
    "# Imports\n",
    "import pandas as pd\n",
    "import json\n",
    "import matplotlib.pyplot as plt\n",
    "import seaborn as sns\n",
    "import nltk\n",
    "from nltk.corpus import stopwords\n",
    "from nltk import word_tokenize"
   ]
  },
  {
   "cell_type": "code",
   "execution_count": 49,
   "id": "6be3a5b5",
   "metadata": {},
   "outputs": [
    {
     "data": {
      "text/html": [
       "<div>\n",
       "<style scoped>\n",
       "    .dataframe tbody tr th:only-of-type {\n",
       "        vertical-align: middle;\n",
       "    }\n",
       "\n",
       "    .dataframe tbody tr th {\n",
       "        vertical-align: top;\n",
       "    }\n",
       "\n",
       "    .dataframe thead th {\n",
       "        text-align: right;\n",
       "    }\n",
       "</style>\n",
       "<table border=\"1\" class=\"dataframe\">\n",
       "  <thead>\n",
       "    <tr style=\"text-align: right;\">\n",
       "      <th></th>\n",
       "      <th>is_sarcastic</th>\n",
       "      <th>headline</th>\n",
       "      <th>article_link</th>\n",
       "    </tr>\n",
       "  </thead>\n",
       "  <tbody>\n",
       "    <tr>\n",
       "      <th>0</th>\n",
       "      <td>1</td>\n",
       "      <td>thirtysomething scientists unveil doomsday clo...</td>\n",
       "      <td>https://www.theonion.com/thirtysomething-scien...</td>\n",
       "    </tr>\n",
       "    <tr>\n",
       "      <th>1</th>\n",
       "      <td>0</td>\n",
       "      <td>dem rep. totally nails why congress is falling...</td>\n",
       "      <td>https://www.huffingtonpost.com/entry/donna-edw...</td>\n",
       "    </tr>\n",
       "    <tr>\n",
       "      <th>2</th>\n",
       "      <td>0</td>\n",
       "      <td>eat your veggies: 9 deliciously different recipes</td>\n",
       "      <td>https://www.huffingtonpost.com/entry/eat-your-...</td>\n",
       "    </tr>\n",
       "    <tr>\n",
       "      <th>3</th>\n",
       "      <td>1</td>\n",
       "      <td>inclement weather prevents liar from getting t...</td>\n",
       "      <td>https://local.theonion.com/inclement-weather-p...</td>\n",
       "    </tr>\n",
       "    <tr>\n",
       "      <th>4</th>\n",
       "      <td>1</td>\n",
       "      <td>mother comes pretty close to using word 'strea...</td>\n",
       "      <td>https://www.theonion.com/mother-comes-pretty-c...</td>\n",
       "    </tr>\n",
       "  </tbody>\n",
       "</table>\n",
       "</div>"
      ],
      "text/plain": [
       "   is_sarcastic                                           headline  \\\n",
       "0             1  thirtysomething scientists unveil doomsday clo...   \n",
       "1             0  dem rep. totally nails why congress is falling...   \n",
       "2             0  eat your veggies: 9 deliciously different recipes   \n",
       "3             1  inclement weather prevents liar from getting t...   \n",
       "4             1  mother comes pretty close to using word 'strea...   \n",
       "\n",
       "                                        article_link  \n",
       "0  https://www.theonion.com/thirtysomething-scien...  \n",
       "1  https://www.huffingtonpost.com/entry/donna-edw...  \n",
       "2  https://www.huffingtonpost.com/entry/eat-your-...  \n",
       "3  https://local.theonion.com/inclement-weather-p...  \n",
       "4  https://www.theonion.com/mother-comes-pretty-c...  "
      ]
     },
     "execution_count": 49,
     "metadata": {},
     "output_type": "execute_result"
    }
   ],
   "source": [
    "# Load the data\n",
    "headlines_df = pd.read_json(\"data/headlines.json\", lines=True)\n",
    "headlines_df.head()"
   ]
  },
  {
   "cell_type": "code",
   "execution_count": 50,
   "id": "4f750387",
   "metadata": {},
   "outputs": [
    {
     "data": {
      "text/plain": [
       "is_sarcastic    0\n",
       "headline        0\n",
       "article_link    0\n",
       "dtype: int64"
      ]
     },
     "execution_count": 50,
     "metadata": {},
     "output_type": "execute_result"
    }
   ],
   "source": [
    "# Check for NaN values\n",
    "headlines_df.isna().sum()"
   ]
  },
  {
   "cell_type": "code",
   "execution_count": 51,
   "id": "ddf6adce",
   "metadata": {},
   "outputs": [
    {
     "data": {
      "text/plain": [
       "0    14985\n",
       "1    13634\n",
       "Name: is_sarcastic, dtype: int64"
      ]
     },
     "execution_count": 51,
     "metadata": {},
     "output_type": "execute_result"
    }
   ],
   "source": [
    "# Explore distribution\n",
    "headlines_df['is_sarcastic'].value_counts()"
   ]
  },
  {
   "cell_type": "code",
   "execution_count": 52,
   "id": "d9a927b8",
   "metadata": {
    "scrolled": true
   },
   "outputs": [
    {
     "data": {
      "text/plain": [
       "<Axes: xlabel='is_sarcastic', ylabel='count'>"
      ]
     },
     "execution_count": 52,
     "metadata": {},
     "output_type": "execute_result"
    },
    {
     "data": {
      "image/png": "[encoded data removed]",
      "text/plain": [
       "<Figure size 640x480 with 1 Axes>"
      ]
     },
     "metadata": {},
     "output_type": "display_data"
    }
   ],
   "source": [
    "sns.countplot(x='is_sarcastic', data=headlines_df)"
   ]
  },
  {
   "cell_type": "code",
   "execution_count": 53,
   "id": "efe49d7a",
   "metadata": {},
   "outputs": [
    {
     "name": "stdout",
     "output_type": "stream",
     "text": [
      "trump      957\n",
      "new        664\n",
      "donald     453\n",
      "trump's    364\n",
      "says       346\n",
      "women      240\n",
      "one        234\n",
      "u.s.       223\n",
      "first      220\n",
      "make       209\n",
      "dtype: int64\n"
     ]
    }
   ],
   "source": [
    "# Most common words in non-sarcastic headlines\n",
    "stop = set(stopwords.words('english'))\n",
    "common_words_ns = ' '.join(headlines_df[headlines_df.is_sarcastic == 0].headline).split()\n",
    "common_words_ns = [word for word in common_words_ns if word not in stop]\n",
    "common_words_ns = pd.Series(common_words_ns)\n",
    "print(common_words_ns.value_counts()[:10])"
   ]
  },
  {
   "cell_type": "code",
   "execution_count": 54,
   "id": "95712f1a",
   "metadata": {},
   "outputs": [
    {
     "name": "stdout",
     "output_type": "stream",
     "text": [
      "man        1143\n",
      "new         973\n",
      "area        487\n",
      "report:     428\n",
      "woman       353\n",
      "trump       327\n",
      "one         293\n",
      "time        261\n",
      "day         251\n",
      "still       245\n",
      "dtype: int64\n"
     ]
    }
   ],
   "source": [
    "# Most common words in sarcastic headlines\n",
    "common_words_s = ' '.join(headlines_df[headlines_df.is_sarcastic == 1].headline).split()\n",
    "common_words_s = [word for word in common_words_s if word not in stop]\n",
    "common_words_s = pd.Series(common_words_s)\n",
    "print(common_words_s.value_counts()[:10])"
   ]
  },
  {
   "cell_type": "code",
   "execution_count": 69,
   "id": "11332c33",
   "metadata": {},
   "outputs": [
    {
     "data": {
      "text/html": [
       "<div>\n",
       "<style scoped>\n",
       "    .dataframe tbody tr th:only-of-type {\n",
       "        vertical-align: middle;\n",
       "    }\n",
       "\n",
       "    .dataframe tbody tr th {\n",
       "        vertical-align: top;\n",
       "    }\n",
       "\n",
       "    .dataframe thead th {\n",
       "        text-align: right;\n",
       "    }\n",
       "</style>\n",
       "<table border=\"1\" class=\"dataframe\">\n",
       "  <thead>\n",
       "    <tr style=\"text-align: right;\">\n",
       "      <th></th>\n",
       "      <th>frequency_ns</th>\n",
       "      <th>frequency_s</th>\n",
       "      <th>difference</th>\n",
       "    </tr>\n",
       "  </thead>\n",
       "  <tbody>\n",
       "    <tr>\n",
       "      <th>man</th>\n",
       "      <td>208</td>\n",
       "      <td>1143</td>\n",
       "      <td>935</td>\n",
       "    </tr>\n",
       "    <tr>\n",
       "      <th>trump</th>\n",
       "      <td>957</td>\n",
       "      <td>327</td>\n",
       "      <td>630</td>\n",
       "    </tr>\n",
       "    <tr>\n",
       "      <th>area</th>\n",
       "      <td>7</td>\n",
       "      <td>487</td>\n",
       "      <td>480</td>\n",
       "    </tr>\n",
       "    <tr>\n",
       "      <th>donald</th>\n",
       "      <td>453</td>\n",
       "      <td>19</td>\n",
       "      <td>434</td>\n",
       "    </tr>\n",
       "    <tr>\n",
       "      <th>report:</th>\n",
       "      <td>24</td>\n",
       "      <td>428</td>\n",
       "      <td>404</td>\n",
       "    </tr>\n",
       "  </tbody>\n",
       "</table>\n",
       "</div>"
      ],
      "text/plain": [
       "         frequency_ns  frequency_s  difference\n",
       "man               208         1143         935\n",
       "trump             957          327         630\n",
       "area                7          487         480\n",
       "donald            453           19         434\n",
       "report:            24          428         404"
      ]
     },
     "execution_count": 69,
     "metadata": {},
     "output_type": "execute_result"
    }
   ],
   "source": [
    "common_words_ns_df = common_words_ns.value_counts().to_frame(name=\"frequency_ns\")\n",
    "common_words_s_df = common_words_s.value_counts().to_frame(name=\"frequency_s\")\n",
    "merged_freq = pd.merge(common_words_ns_df, common_words_s_df, left_index=True, right_index=True, how=\"inner\")\n",
    "merged_freq[\"difference\"] = abs(merged_freq[\"frequency_ns\"] - merged_freq[\"frequency_s\"])\n",
    "merged_freq = merged_freq.sort_values(['difference'], ascending=[False])\n",
    "merged_freq.head()"
   ]
  },
  {
   "cell_type": "code",
   "execution_count": 55,
   "id": "34692bf4",
   "metadata": {},
   "outputs": [],
   "source": [
    "def remove_stopwords(headline):\n",
    "    headline_list = headline.split()\n",
    "    return ' '.join([word for word in headline_list if word not in stop])"
   ]
  },
  {
   "cell_type": "code",
   "execution_count": 59,
   "id": "d39835bf",
   "metadata": {},
   "outputs": [],
   "source": [
    "def tokenize(headline):\n",
    "    tokenized = word_tokenize(headline)\n",
    "    return ' '.join([word for word in tokenized])"
   ]
  },
  {
   "cell_type": "code",
   "execution_count": 70,
   "id": "9ad94f14",
   "metadata": {},
   "outputs": [
    {
     "data": {
      "text/html": [
       "<div>\n",
       "<style scoped>\n",
       "    .dataframe tbody tr th:only-of-type {\n",
       "        vertical-align: middle;\n",
       "    }\n",
       "\n",
       "    .dataframe tbody tr th {\n",
       "        vertical-align: top;\n",
       "    }\n",
       "\n",
       "    .dataframe thead th {\n",
       "        text-align: right;\n",
       "    }\n",
       "</style>\n",
       "<table border=\"1\" class=\"dataframe\">\n",
       "  <thead>\n",
       "    <tr style=\"text-align: right;\">\n",
       "      <th></th>\n",
       "      <th>is_sarcastic</th>\n",
       "      <th>headline</th>\n",
       "      <th>article_link</th>\n",
       "      <th>no_stopwords</th>\n",
       "      <th>tokenized</th>\n",
       "      <th>tokenized_no_stopwords</th>\n",
       "    </tr>\n",
       "  </thead>\n",
       "  <tbody>\n",
       "    <tr>\n",
       "      <th>0</th>\n",
       "      <td>1</td>\n",
       "      <td>thirtysomething scientists unveil doomsday clo...</td>\n",
       "      <td>https://www.theonion.com/thirtysomething-scien...</td>\n",
       "      <td>thirtysomething scientists unveil doomsday clo...</td>\n",
       "      <td>thirtysomething scientists unveil doomsday clo...</td>\n",
       "      <td>thirtysomething scientists unveil doomsday clo...</td>\n",
       "    </tr>\n",
       "    <tr>\n",
       "      <th>1</th>\n",
       "      <td>0</td>\n",
       "      <td>dem rep. totally nails why congress is falling...</td>\n",
       "      <td>https://www.huffingtonpost.com/entry/donna-edw...</td>\n",
       "      <td>dem rep. totally nails congress falling short ...</td>\n",
       "      <td>dem rep. totally nails why congress is falling...</td>\n",
       "      <td>dem rep. totally nails congress falling short ...</td>\n",
       "    </tr>\n",
       "    <tr>\n",
       "      <th>2</th>\n",
       "      <td>0</td>\n",
       "      <td>eat your veggies: 9 deliciously different recipes</td>\n",
       "      <td>https://www.huffingtonpost.com/entry/eat-your-...</td>\n",
       "      <td>eat veggies: 9 deliciously different recipes</td>\n",
       "      <td>eat your veggies : 9 deliciously different rec...</td>\n",
       "      <td>eat veggies : 9 deliciously different recipes</td>\n",
       "    </tr>\n",
       "    <tr>\n",
       "      <th>3</th>\n",
       "      <td>1</td>\n",
       "      <td>inclement weather prevents liar from getting t...</td>\n",
       "      <td>https://local.theonion.com/inclement-weather-p...</td>\n",
       "      <td>inclement weather prevents liar getting work</td>\n",
       "      <td>inclement weather prevents liar from getting t...</td>\n",
       "      <td>inclement weather prevents liar getting work</td>\n",
       "    </tr>\n",
       "    <tr>\n",
       "      <th>4</th>\n",
       "      <td>1</td>\n",
       "      <td>mother comes pretty close to using word 'strea...</td>\n",
       "      <td>https://www.theonion.com/mother-comes-pretty-c...</td>\n",
       "      <td>mother comes pretty close using word 'streamin...</td>\n",
       "      <td>mother comes pretty close to using word 'strea...</td>\n",
       "      <td>mother comes pretty close using word 'streamin...</td>\n",
       "    </tr>\n",
       "  </tbody>\n",
       "</table>\n",
       "</div>"
      ],
      "text/plain": [
       "   is_sarcastic                                           headline  \\\n",
       "0             1  thirtysomething scientists unveil doomsday clo...   \n",
       "1             0  dem rep. totally nails why congress is falling...   \n",
       "2             0  eat your veggies: 9 deliciously different recipes   \n",
       "3             1  inclement weather prevents liar from getting t...   \n",
       "4             1  mother comes pretty close to using word 'strea...   \n",
       "\n",
       "                                        article_link  \\\n",
       "0  https://www.theonion.com/thirtysomething-scien...   \n",
       "1  https://www.huffingtonpost.com/entry/donna-edw...   \n",
       "2  https://www.huffingtonpost.com/entry/eat-your-...   \n",
       "3  https://local.theonion.com/inclement-weather-p...   \n",
       "4  https://www.theonion.com/mother-comes-pretty-c...   \n",
       "\n",
       "                                        no_stopwords  \\\n",
       "0  thirtysomething scientists unveil doomsday clo...   \n",
       "1  dem rep. totally nails congress falling short ...   \n",
       "2       eat veggies: 9 deliciously different recipes   \n",
       "3       inclement weather prevents liar getting work   \n",
       "4  mother comes pretty close using word 'streamin...   \n",
       "\n",
       "                                           tokenized  \\\n",
       "0  thirtysomething scientists unveil doomsday clo...   \n",
       "1  dem rep. totally nails why congress is falling...   \n",
       "2  eat your veggies : 9 deliciously different rec...   \n",
       "3  inclement weather prevents liar from getting t...   \n",
       "4  mother comes pretty close to using word 'strea...   \n",
       "\n",
       "                              tokenized_no_stopwords  \n",
       "0  thirtysomething scientists unveil doomsday clo...  \n",
       "1  dem rep. totally nails congress falling short ...  \n",
       "2      eat veggies : 9 deliciously different recipes  \n",
       "3       inclement weather prevents liar getting work  \n",
       "4  mother comes pretty close using word 'streamin...  "
      ]
     },
     "execution_count": 70,
     "metadata": {},
     "output_type": "execute_result"
    }
   ],
   "source": [
    "# Create columns with processed version of headlines\n",
    "cleaned_headlines_df = headlines_df\n",
    "cleaned_headlines_df['no_stopwords'] = cleaned_headlines_df.headline.apply(remove_stopwords)\n",
    "cleaned_headlines_df['tokenized'] = cleaned_headlines_df.headline.apply(tokenize)\n",
    "cleaned_headlines_df['tokenized_no_stopwords'] = cleaned_headlines_df.no_stopwords.apply(tokenize)\n",
    "cleaned_headlines_df.head()"
   ]
  },
  {
   "cell_type": "code",
   "execution_count": 71,
   "id": "012ace7f",
   "metadata": {},
   "outputs": [],
   "source": [
    "# Save cleaned data\n",
    "cleaned_headlines_df.to_csv(\"data/cleaned_headlines.csv\")"
   ]
  },
  {
   "cell_type": "code",
   "execution_count": null,
   "id": "7167f313",
   "metadata": {},
   "outputs": [],
   "source": []
  }
 ],
 "metadata": {
  "kernelspec": {
   "display_name": "Python 3 (ipykernel)",
   "language": "python",
   "name": "python3"
  },
  "language_info": {
   "codemirror_mode": {
    "name": "ipython",
    "version": 3
   },
   "file_extension": ".py",
   "mimetype": "text/x-python",
   "name": "python",
   "nbconvert_exporter": "python",
   "pygments_lexer": "ipython3",
   "version": "3.9.15"
  }
 },
 "nbformat": 4,
 "nbformat_minor": 5
}
